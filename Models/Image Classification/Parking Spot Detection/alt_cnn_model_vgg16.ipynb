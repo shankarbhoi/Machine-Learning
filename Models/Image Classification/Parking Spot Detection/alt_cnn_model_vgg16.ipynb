{
 "cells": [
  {
   "cell_type": "markdown",
   "metadata": {},
   "source": [
    "## This program builds the VGG16 convolutional neural network model for image classification. Once built the model is stored as car_v16.h5 file in the same directory."
   ]
  },
  {
   "cell_type": "code",
   "execution_count": null,
   "metadata": {},
   "outputs": [],
   "source": [
    "# Importing the Keras libraries and packages\n",
    "from keras.layers import *\n",
    "from keras.optimizers import *\n",
    "from keras.applications import *\n",
    "from keras import applications\n",
    "from keras.models import Model\n",
    "from keras.preprocessing.image import ImageDataGenerator\n",
    "from keras.callbacks import ModelCheckpoint, EarlyStopping\n",
    "from keras import backend as k\n",
    "import matplotlib.pyplot as plt\n",
    "from keras import optimizers \n",
    "#remove warnings \n",
    "import warnings\n",
    "warnings.filterwarnings('ignore')\n",
    "#import config file\n",
    "import import_ipynb\n",
    "import Config as c"
   ]
  },
  {
   "cell_type": "code",
   "execution_count": null,
   "metadata": {},
   "outputs": [],
   "source": [
    "# Pre-Trained CNN Model using imagenet dataset for pre-trained weights\n",
    "base_model = applications.VGG16(weights = \"imagenet\", include_top=False, input_shape = (c.img_width, c.img_height, c.channels))\n",
    "# Freeze layer that do not need to be trained\n",
    "for layer in base_model.layers[:10]:\n",
    "    layer.trainable = False"
   ]
  },
  {
   "cell_type": "code",
   "execution_count": null,
   "metadata": {},
   "outputs": [],
   "source": [
    "# Top Model Block\n",
    "x = base_model.output\n",
    "x = Flatten()(x)\n",
    "predictions = Dense(c.num_classes, activation=\"softmax\")(x)"
   ]
  },
  {
   "cell_type": "code",
   "execution_count": null,
   "metadata": {},
   "outputs": [],
   "source": [
    "# add your top layer block to your base model\n",
    "classifier = Model(base_model.input, predictions)\n",
    "#print(classifier.summary())"
   ]
  },
  {
   "cell_type": "code",
   "execution_count": null,
   "metadata": {},
   "outputs": [],
   "source": [
    "# compiling the CNN\n",
    "classifier.compile(optimizer = optimizers.SGD(lr=0.0001, momentum=0.9), loss = 'categorical_crossentropy', metrics = ['accuracy'])"
   ]
  },
  {
   "cell_type": "code",
   "execution_count": null,
   "metadata": {},
   "outputs": [],
   "source": [
    "# Read Data and Augment it: Make sure to select augmentations that are appropriate to your images.\n",
    "# To save augmentations un-comment save lines and add to your flow parameters.\n",
    "img_width, img_height = c.img_width, c.img_height\n",
    "train_data_dir = c.train_data_dir\n",
    "validation_data_dir = c.validation_data_dir\n",
    "batch_size = c.batch_size\n",
    "epochs = c.epoch\n",
    "num_classes = c.num_classes\n",
    "\n",
    "# Initiate the train and test generators with data Augumentation\n",
    "\n",
    "\n",
    "train_datagen = ImageDataGenerator(\n",
    "rescale = c.train_rescale,\n",
    "horizontal_flip = True,\n",
    "fill_mode = \"nearest\",\n",
    "zoom_range = c.train_zoom_range,\n",
    "width_shift_range = c.train_width_shift_range,\n",
    "height_shift_range=c.train_height_shift_range,\n",
    "rotation_range=c.train_rotation_range)\n",
    "\n",
    "test_datagen = ImageDataGenerator(\n",
    "rescale = c.test_rescale,\n",
    "horizontal_flip = True,\n",
    "fill_mode = \"nearest\",\n",
    "zoom_range = c.test_zoom_range,\n",
    "width_shift_range = c.test_width_shift_range,\n",
    "height_shift_range=c.test_height_shift_range,\n",
    "rotation_range=c.test_rotation_range)\n",
    "\n",
    "train_generator = train_datagen.flow_from_directory(\n",
    "train_data_dir,\n",
    "target_size = (img_height, img_width),\n",
    "batch_size = batch_size,\n",
    "class_mode = \"categorical\")\n",
    "\n",
    "validation_generator = test_datagen.flow_from_directory(\n",
    "validation_data_dir,\n",
    "target_size = (img_height, img_width),\n",
    "batch_size = batch_size,\n",
    "class_mode = \"categorical\")"
   ]
  },
  {
   "cell_type": "code",
   "execution_count": null,
   "metadata": {},
   "outputs": [],
   "source": [
    "# Define when to stop training the model and then store the best model as car1.h5\n",
    "# This will be passed while fitting the model as callbacks methods.\n",
    "checkpoint = ModelCheckpoint(c.model_file, monitor='val_acc', verbose=1, save_best_only=True, save_weights_only=False, mode='auto', period=1)\n",
    "early = EarlyStopping(monitor='val_acc', min_delta=0, patience=10, verbose=1, mode='auto') "
   ]
  },
  {
   "cell_type": "code",
   "execution_count": null,
   "metadata": {},
   "outputs": [],
   "source": [
    "# Find the count for train and test images\n",
    "import os\n",
    "train_samples = 0\n",
    "validation_samples = 0\n",
    "\n",
    "cwd = os.getcwd()\n",
    "folder = c.train_data_dir\n",
    "for sub_folder in os.listdir(folder):\n",
    "    path, dirs, files = next(os.walk(os.path.join(folder,sub_folder)))\n",
    "    train_samples += len(files)\n",
    "\n",
    "\n",
    "folder = c.validation_data_dir\n",
    "for sub_folder in os.listdir(folder):\n",
    "    path, dirs, files = next(os.walk(os.path.join(folder,sub_folder)))\n",
    "    validation_samples += len(files)\n",
    "\n",
    "print(train_samples)\n",
    "print(validation_samples)"
   ]
  },
  {
   "cell_type": "code",
   "execution_count": null,
   "metadata": {
    "scrolled": true
   },
   "outputs": [],
   "source": [
    "# Fit the model to the data\n",
    "history_object = classifier.fit_generator(\n",
    "train_generator,\n",
    "steps_per_epoch = train_samples,\n",
    "epochs = c.epoch,\n",
    "callbacks = [checkpoint, early],\n",
    "validation_data = validation_generator,\n",
    "validation_steps = validation_samples\n",
    ")"
   ]
  },
  {
   "cell_type": "code",
   "execution_count": null,
   "metadata": {},
   "outputs": [],
   "source": [
    "# # %matplotlib inline\n",
    "# print(history_object.history.keys())\n",
    "# plt.plot(history_object.history['acc'])\n",
    "# plt.plot(history_object.history['val_acc'])\n",
    "# plt.title('model accuracy')\n",
    "# plt.ylabel('acc')\n",
    "# plt.xlabel('epoch')\n",
    "# plt.legend(['train', 'test'], loc='upper left')\n",
    "# plt.show()"
   ]
  },
  {
   "cell_type": "code",
   "execution_count": null,
   "metadata": {},
   "outputs": [],
   "source": [
    "# plt.plot(history_object.history['loss'])\n",
    "# plt.plot(history_object.history['val_loss'])\n",
    "# plt.title('model loss')\n",
    "# plt.ylabel('loss')\n",
    "# plt.xlabel('epoch')\n",
    "# plt.legend(['train', 'test'], loc='upper left')\n",
    "# plt.show()"
   ]
  }
 ],
 "metadata": {
  "kernelspec": {
   "display_name": "Python 3",
   "language": "python",
   "name": "python3"
  },
  "language_info": {
   "codemirror_mode": {
    "name": "ipython",
    "version": 3
   },
   "file_extension": ".py",
   "mimetype": "text/x-python",
   "name": "python",
   "nbconvert_exporter": "python",
   "pygments_lexer": "ipython3",
   "version": "3.7.1"
  }
 },
 "nbformat": 4,
 "nbformat_minor": 2
}
