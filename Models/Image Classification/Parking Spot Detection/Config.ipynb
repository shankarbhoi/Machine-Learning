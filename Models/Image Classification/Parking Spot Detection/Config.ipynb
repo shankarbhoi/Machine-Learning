{
 "cells": [
  {
   "cell_type": "markdown",
   "metadata": {},
   "source": [
    "## This file stores all the configuration pramaters used across the programs. For each installation this will require one time setup only."
   ]
  },
  {
   "cell_type": "code",
   "execution_count": 1,
   "metadata": {},
   "outputs": [],
   "source": [
    "#model file\n",
    "img_width=48\n",
    "img_height=48\n",
    "channels=3\n",
    "epoch=10\n",
    "num_classes=2\n",
    "train_zoom_range=0.1\n",
    "train_width_shift_range=0.1\n",
    "train_height_shift_range=0.1\n",
    "test_width_shift_range=0.1\n",
    "test_height_shift_range=0.1\n",
    "train_rotation_range=5\n",
    "test_rotation_range=5\n",
    "test_zoom_range=0.1\n",
    "batch_size=32\n",
    "model_file=\"car_v16.h5\"\n",
    "train_data_dir=\"train_data/train\"\n",
    "validation_data_dir=\"train_data/test\"\n",
    "test_rescale=1./255\n",
    "train_rescale=1./255"
   ]
  },
  {
   "cell_type": "code",
   "execution_count": 2,
   "metadata": {},
   "outputs": [],
   "source": [
    "#identifying_parking_spots\n",
    "img_path=\"test_images/*.jpg\"\n",
    "white_upper_r=255\n",
    "white_upper_g=255\n",
    "white_upper_b=255\n",
    "white_lower_r=120\n",
    "white_lower_g=120\n",
    "white_lower_b=120\n",
    "yellow_lower_r=190\n",
    "yellow_lower_g=190\n",
    "yellow_lower_b=0\n",
    "yellow_upper_r=255\n",
    "yellow_upper_g=255\n",
    "yellow_upper_b=255\n",
    "low_threshold=50\n",
    "high_threshold=100\n",
    "houghline_threshold=5\n",
    "houghline_minlinelength=20\n",
    "houghline_maxlinegap=5\n",
    "divisor=10\n",
    "draw_lines_thickness=2\n",
    "lines_y_threshold_rect=1\n",
    "lines_x_threshold1_rect=40\n",
    "lines_x_threshold2_rect=300\n",
    "lines_y_threshold=1\n",
    "lines_x_threshold1=25\n",
    "lines_x_threshold2=150\n",
    "threshold_value=5\n",
    "rect_color_r=0\n",
    "rect_color_g=0\n",
    "rect_color_b=255\n",
    "rect_channels=3\n",
    "max_image_width=720\n",
    "gap=125\n",
    "pickle_file=\"spot_dict.pickle\"\n",
    "clust_dist = 20"
   ]
  },
  {
   "cell_type": "code",
   "execution_count": 3,
   "metadata": {},
   "outputs": [],
   "source": [
    "#run_model_on_new_img\n",
    "test_image_width=48\n",
    "test_image_height=48\n",
    "available_font_width=30\n",
    "available_font_height=95\n",
    "total_font_width=30\n",
    "total_font_height=125\n",
    "font_r=0\n",
    "font_g=0\n",
    "font_b=255\n",
    "font_channels=2\n",
    "filename_with_marker='with_marking.jpg'\n",
    "slot_color_r=0\n",
    "slot_color_g=255\n",
    "slot_color_b=0\n"
   ]
  }
 ],
 "metadata": {
  "kernelspec": {
   "display_name": "Python 3",
   "language": "python",
   "name": "python3"
  },
  "language_info": {
   "codemirror_mode": {
    "name": "ipython",
    "version": 3
   },
   "file_extension": ".py",
   "mimetype": "text/x-python",
   "name": "python",
   "nbconvert_exporter": "python",
   "pygments_lexer": "ipython3",
   "version": "3.7.3"
  }
 },
 "nbformat": 4,
 "nbformat_minor": 2
}
