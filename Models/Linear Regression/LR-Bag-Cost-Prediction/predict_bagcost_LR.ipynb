{
 "cells": [
  {
   "cell_type": "markdown",
   "metadata": {},
   "source": [
    "# Mini Project - Regression"
   ]
  },
  {
   "cell_type": "markdown",
   "metadata": {},
   "source": [
    "<b>Problem Statement </b> The company now wants to predict the cost they should set for a new variant of these kinds of bags based on the below attributes.\n",
    "<ul>\n",
    "    <li>Height – The height of the bag</li>\n",
    "    <li>Width – The width of the bag</li>\n",
    "    <li>Length – The length of the bag</li>\n",
    "    <li>Weight – The weight the bag can carry</li>\n",
    "    <li>Weight1 – Weight the bag can carry after expansion</li>\n",
    "</ul>\n",
    "As a result, they want you to build a prediction model which can correctly set the cost of the bag provided the attributes are given."
   ]
  },
  {
   "cell_type": "markdown",
   "metadata": {},
   "source": [
    "# 1 Analyse the dataset and do EDA(Exploratory Data Analysis) "
   ]
  },
  {
   "cell_type": "markdown",
   "metadata": {},
   "source": [
    "Exploratory Data Analysis (EDA) in Python is the first step in data analysis process.In statistics, exploratory data analysis is an approach to analyzing data sets to summarize their main characteristics, often with visual methods.\n",
    "<ul>\n",
    "        <li>Description of data</li>\n",
    "        <li>Handling missing data</li>\n",
    "        <li>Handling outliers</li>\n",
    "    </ul>    \n",
    "EDA refers to exploring the dataset from various facets such as outliers, correlations, wrong data types, Null values etc."
   ]
  },
  {
   "cell_type": "code",
   "execution_count": 1,
   "metadata": {},
   "outputs": [],
   "source": [
    "#import the relevent libararies\n",
    "import pandas as pd\n",
    "import numpy as np\n",
    "import matplotlib.pyplot as plt\n",
    "import seaborn as sns\n",
    "import math\n",
    "import matplotlib.pyplot as plt\n",
    "from mpl_toolkits.mplot3d import Axes3D\n",
    "import pandas as pd\n",
    "from sklearn.metrics import mean_squared_error\n",
    "from sklearn.metrics import r2_score"
   ]
  },
  {
   "cell_type": "markdown",
   "metadata": {},
   "source": [
    "### 1.1 Import the datasets"
   ]
  },
  {
   "cell_type": "code",
   "execution_count": 2,
   "metadata": {},
   "outputs": [],
   "source": [
    "#read the csv file and display the top 5\n",
    "data = pd.read_csv('Data_miniproject.csv')\n"
   ]
  },
  {
   "cell_type": "markdown",
   "metadata": {},
   "source": [
    "### 1.2. The structure of the data"
   ]
  },
  {
   "cell_type": "code",
   "execution_count": 3,
   "metadata": {},
   "outputs": [
    {
     "name": "stdout",
     "output_type": "stream",
     "text": [
      "(159, 6)\n"
     ]
    }
   ],
   "source": [
    "#print dataset shape\n",
    "print(data.shape)"
   ]
  },
  {
   "cell_type": "code",
   "execution_count": 4,
   "metadata": {},
   "outputs": [
    {
     "name": "stdout",
     "output_type": "stream",
     "text": [
      "<class 'pandas.core.frame.DataFrame'>\n",
      "RangeIndex: 159 entries, 0 to 158\n",
      "Data columns (total 6 columns):\n",
      "Cost       159 non-null float64\n",
      "Weight     159 non-null float64\n",
      "Weight1    159 non-null float64\n",
      "Length     159 non-null float64\n",
      "Height     159 non-null float64\n",
      "Width      159 non-null float64\n",
      "dtypes: float64(6)\n",
      "memory usage: 7.5 KB\n"
     ]
    }
   ],
   "source": [
    "#print dataset info\n",
    "data.info()"
   ]
  },
  {
   "cell_type": "code",
   "execution_count": 5,
   "metadata": {},
   "outputs": [
    {
     "data": {
      "text/html": [
       "<div>\n",
       "<style scoped>\n",
       "    .dataframe tbody tr th:only-of-type {\n",
       "        vertical-align: middle;\n",
       "    }\n",
       "\n",
       "    .dataframe tbody tr th {\n",
       "        vertical-align: top;\n",
       "    }\n",
       "\n",
       "    .dataframe thead th {\n",
       "        text-align: right;\n",
       "    }\n",
       "</style>\n",
       "<table border=\"1\" class=\"dataframe\">\n",
       "  <thead>\n",
       "    <tr style=\"text-align: right;\">\n",
       "      <th></th>\n",
       "      <th>Cost</th>\n",
       "      <th>Weight</th>\n",
       "      <th>Weight1</th>\n",
       "      <th>Length</th>\n",
       "      <th>Height</th>\n",
       "      <th>Width</th>\n",
       "    </tr>\n",
       "  </thead>\n",
       "  <tbody>\n",
       "    <tr>\n",
       "      <th>count</th>\n",
       "      <td>159.000000</td>\n",
       "      <td>159.000000</td>\n",
       "      <td>159.000000</td>\n",
       "      <td>159.000000</td>\n",
       "      <td>159.000000</td>\n",
       "      <td>159.000000</td>\n",
       "    </tr>\n",
       "    <tr>\n",
       "      <th>mean</th>\n",
       "      <td>398.326415</td>\n",
       "      <td>26.247170</td>\n",
       "      <td>28.415723</td>\n",
       "      <td>31.227044</td>\n",
       "      <td>8.970994</td>\n",
       "      <td>4.417486</td>\n",
       "    </tr>\n",
       "    <tr>\n",
       "      <th>std</th>\n",
       "      <td>357.978317</td>\n",
       "      <td>9.996441</td>\n",
       "      <td>10.716328</td>\n",
       "      <td>11.610246</td>\n",
       "      <td>4.286208</td>\n",
       "      <td>1.685804</td>\n",
       "    </tr>\n",
       "    <tr>\n",
       "      <th>min</th>\n",
       "      <td>0.000000</td>\n",
       "      <td>7.500000</td>\n",
       "      <td>8.400000</td>\n",
       "      <td>8.800000</td>\n",
       "      <td>1.728400</td>\n",
       "      <td>1.047600</td>\n",
       "    </tr>\n",
       "    <tr>\n",
       "      <th>25%</th>\n",
       "      <td>120.000000</td>\n",
       "      <td>19.050000</td>\n",
       "      <td>21.000000</td>\n",
       "      <td>23.150000</td>\n",
       "      <td>5.944800</td>\n",
       "      <td>3.385650</td>\n",
       "    </tr>\n",
       "    <tr>\n",
       "      <th>50%</th>\n",
       "      <td>273.000000</td>\n",
       "      <td>25.200000</td>\n",
       "      <td>27.300000</td>\n",
       "      <td>29.400000</td>\n",
       "      <td>7.786000</td>\n",
       "      <td>4.248500</td>\n",
       "    </tr>\n",
       "    <tr>\n",
       "      <th>75%</th>\n",
       "      <td>650.000000</td>\n",
       "      <td>32.700000</td>\n",
       "      <td>35.500000</td>\n",
       "      <td>39.650000</td>\n",
       "      <td>12.365900</td>\n",
       "      <td>5.584500</td>\n",
       "    </tr>\n",
       "    <tr>\n",
       "      <th>90%</th>\n",
       "      <td>930.000000</td>\n",
       "      <td>38.200000</td>\n",
       "      <td>41.200000</td>\n",
       "      <td>45.340000</td>\n",
       "      <td>15.190400</td>\n",
       "      <td>6.742100</td>\n",
       "    </tr>\n",
       "    <tr>\n",
       "      <th>95%</th>\n",
       "      <td>1000.000000</td>\n",
       "      <td>41.190000</td>\n",
       "      <td>44.100000</td>\n",
       "      <td>46.740000</td>\n",
       "      <td>16.377320</td>\n",
       "      <td>7.284620</td>\n",
       "    </tr>\n",
       "    <tr>\n",
       "      <th>99%</th>\n",
       "      <td>1571.000000</td>\n",
       "      <td>56.000000</td>\n",
       "      <td>60.000000</td>\n",
       "      <td>64.000000</td>\n",
       "      <td>18.685296</td>\n",
       "      <td>7.679758</td>\n",
       "    </tr>\n",
       "    <tr>\n",
       "      <th>max</th>\n",
       "      <td>1650.000000</td>\n",
       "      <td>59.000000</td>\n",
       "      <td>63.400000</td>\n",
       "      <td>68.000000</td>\n",
       "      <td>18.957000</td>\n",
       "      <td>8.142000</td>\n",
       "    </tr>\n",
       "  </tbody>\n",
       "</table>\n",
       "</div>"
      ],
      "text/plain": [
       "              Cost      Weight     Weight1      Length      Height       Width\n",
       "count   159.000000  159.000000  159.000000  159.000000  159.000000  159.000000\n",
       "mean    398.326415   26.247170   28.415723   31.227044    8.970994    4.417486\n",
       "std     357.978317    9.996441   10.716328   11.610246    4.286208    1.685804\n",
       "min       0.000000    7.500000    8.400000    8.800000    1.728400    1.047600\n",
       "25%     120.000000   19.050000   21.000000   23.150000    5.944800    3.385650\n",
       "50%     273.000000   25.200000   27.300000   29.400000    7.786000    4.248500\n",
       "75%     650.000000   32.700000   35.500000   39.650000   12.365900    5.584500\n",
       "90%     930.000000   38.200000   41.200000   45.340000   15.190400    6.742100\n",
       "95%    1000.000000   41.190000   44.100000   46.740000   16.377320    7.284620\n",
       "99%    1571.000000   56.000000   60.000000   64.000000   18.685296    7.679758\n",
       "max    1650.000000   59.000000   63.400000   68.000000   18.957000    8.142000"
      ]
     },
     "execution_count": 5,
     "metadata": {},
     "output_type": "execute_result"
    }
   ],
   "source": [
    "data.describe(percentiles=[.25,.5,.75,.90,.95,.99])"
   ]
  },
  {
   "cell_type": "markdown",
   "metadata": {},
   "source": [
    "<b>From the distribution shown above, you can see that there might be no outliner in the data. The numbers are gradually increasing. But still we will validate using the plots </b>"
   ]
  },
  {
   "cell_type": "markdown",
   "metadata": {},
   "source": [
    "### 1.3 Get First (and Last) rows"
   ]
  },
  {
   "cell_type": "code",
   "execution_count": 6,
   "metadata": {},
   "outputs": [
    {
     "name": "stdout",
     "output_type": "stream",
     "text": [
      "First 5 rows\n",
      "    Cost  Weight  Weight1  Length   Height   Width\n",
      "0  242.0    23.2     25.4    30.0  11.5200  4.0200\n",
      "1  290.0    24.0     26.3    31.2  12.4800  4.3056\n",
      "2  340.0    23.9     26.5    31.1  12.3778  4.6961\n",
      "3  363.0    26.3     29.0    33.5  12.7300  4.4555\n",
      "4  430.0    26.5     29.0    34.0  12.4440  5.1340\n",
      "Last 5 rows\n",
      "     Cost  Weight  Weight1  Length  Height   Width\n",
      "154  12.2    11.5     12.2    13.4  2.0904  1.3936\n",
      "155  13.4    11.7     12.4    13.5  2.4300  1.2690\n",
      "156  12.2    12.1     13.0    13.8  2.2770  1.2558\n",
      "157  19.7    13.2     14.3    15.2  2.8728  2.0672\n",
      "158  19.9    13.8     15.0    16.2  2.9322  1.8792\n"
     ]
    }
   ],
   "source": [
    "print(\"First 5 rows\")\n",
    "print(data.head())\n",
    "print(\"Last 5 rows\")\n",
    "print(data.tail())"
   ]
  },
  {
   "cell_type": "markdown",
   "metadata": {},
   "source": [
    "### 1.3 Validating Null"
   ]
  },
  {
   "cell_type": "code",
   "execution_count": 7,
   "metadata": {},
   "outputs": [
    {
     "data": {
      "text/plain": [
       "Cost       0\n",
       "Weight     0\n",
       "Weight1    0\n",
       "Length     0\n",
       "Height     0\n",
       "Width      0\n",
       "dtype: int64"
      ]
     },
     "execution_count": 7,
     "metadata": {},
     "output_type": "execute_result"
    }
   ],
   "source": [
    "#Validating Null\n",
    "data.isnull().sum()"
   ]
  },
  {
   "cell_type": "markdown",
   "metadata": {},
   "source": [
    "### 1.3 Validating Zero"
   ]
  },
  {
   "cell_type": "code",
   "execution_count": 8,
   "metadata": {},
   "outputs": [],
   "source": [
    "### 1.3 Validating Zero\n",
    "data[data[\"Cost\"]==0]=data[\"Cost\"].mean()\n",
    "data[data[\"Weight\"]==0]=data[\"Weight\"].mean()\n",
    "data[data[\"Weight1\"]==0]=data[\"Weight1\"].mean()\n",
    "data[data[\"Length\"]==0]=data[\"Length\"].mean()\n",
    "data[data[\"Height\"]==0]=data[\"Height\"].mean()\n",
    "data[data[\"Width\"]==0]=data[\"Width\"].mean()"
   ]
  },
  {
   "cell_type": "markdown",
   "metadata": {},
   "source": [
    "### 1.3 Handling Outliers"
   ]
  },
  {
   "cell_type": "markdown",
   "metadata": {},
   "source": [
    "<b>BoxPlot:</b>\n",
    "A box plot is a method for graphically depicting groups of numerical data through their quartiles."
   ]
  },
  {
   "cell_type": "markdown",
   "metadata": {},
   "source": [
    "### 1.3 Univariate method\n",
    "One of the simplest methods for detecting outliers is the use of box plots. A box plot is a graphical display for describing the distributions of the data. Box plots use the median and the lower and upper quartiles."
   ]
  },
  {
   "cell_type": "code",
   "execution_count": 9,
   "metadata": {},
   "outputs": [
    {
     "data": {
      "text/plain": [
       "<matplotlib.axes._subplots.AxesSubplot at 0x2354b670f28>"
      ]
     },
     "execution_count": 9,
     "metadata": {},
     "output_type": "execute_result"
    },
    {
     "data": {
      "text/plain": [
       "<Figure size 432x288 with 0 Axes>"
      ]
     },
     "metadata": {},
     "output_type": "display_data"
    },
    {
     "data": {
      "image/png": "[encoded data removed]",
      "text/plain": [
       "<Figure size 1440x720 with 6 Axes>"
      ]
     },
     "metadata": {
      "needs_background": "light"
     },
     "output_type": "display_data"
    }
   ],
   "source": [
    "plt.figure(1) \n",
    "plt.figure(figsize=(20,10))\n",
    "plt.subplot(331)\n",
    "sns.distplot(data['Cost'])\n",
    "plt.subplot(332)\n",
    "sns.distplot(data['Weight'])\n",
    "plt.subplot(333)\n",
    "sns.distplot(data['Weight1'])\n",
    "plt.subplot(334)\n",
    "sns.distplot(data['Length'])\n",
    "plt.subplot(335)\n",
    "sns.distplot(data['Height'])\n",
    "plt.subplot(336)\n",
    "sns.distplot(data['Width'])"
   ]
  },
  {
   "cell_type": "markdown",
   "metadata": {},
   "source": [
    "<b>Using above graph there are few Outliers in Cost, Weight, Weight1, Length, Height and Width. We will use the Box Plot to Validate.</b> "
   ]
  },
  {
   "cell_type": "code",
   "execution_count": 10,
   "metadata": {},
   "outputs": [
    {
     "data": {
      "text/plain": [
       "<matplotlib.axes._subplots.AxesSubplot at 0x2354bba59b0>"
      ]
     },
     "execution_count": 10,
     "metadata": {},
     "output_type": "execute_result"
    },
    {
     "data": {
      "image/png": "[encoded data removed]",
      "text/plain": [
       "<Figure size 432x288 with 1 Axes>"
      ]
     },
     "metadata": {
      "needs_background": "light"
     },
     "output_type": "display_data"
    }
   ],
   "source": [
    "sns.boxplot(data['Cost'])"
   ]
  },
  {
   "cell_type": "code",
   "execution_count": 11,
   "metadata": {},
   "outputs": [
    {
     "name": "stdout",
     "output_type": "stream",
     "text": [
      "Heighter Values\n",
      "       Cost  Weight  Weight1  Length  Height  Width\n",
      "142  1600.0    56.0     60.0    64.0   9.600  6.144\n",
      "143  1550.0    56.0     60.0    64.0   9.600  6.144\n",
      "144  1650.0    59.0     63.4    68.0  10.812  7.480\n",
      "Empty DataFrame\n",
      "Columns: [Cost, Weight, Weight1, Length, Height, Width]\n",
      "Index: []\n"
     ]
    },
    {
     "data": {
      "text/plain": [
       "<matplotlib.axes._subplots.AxesSubplot at 0x2354bcb1b00>"
      ]
     },
     "execution_count": 11,
     "metadata": {},
     "output_type": "execute_result"
    },
    {
     "data": {
      "image/png": "[encoded data removed]",
      "text/plain": [
       "<Figure size 432x288 with 1 Axes>"
      ]
     },
     "metadata": {
      "needs_background": "light"
     },
     "output_type": "display_data"
    }
   ],
   "source": [
    "# Total 3 values are in the outlayores of the cost we have to replace with the maximum value.\n",
    "Q1 = data[\"Cost\"].quantile(0.25)\n",
    "Q3 = data[\"Cost\"].quantile(0.75)\n",
    "IQR = Q3 - Q1\n",
    "#rint(data[\"Cost\"] < (Q1 - 1.5 * IQR)) |data[\"Cost\"] > (Q3 + 1.5 * IQR)) \n",
    "print(\"Heighter Values\")\n",
    "print(data[data[\"Cost\"] > (Q3 + 1.5 * IQR)])\n",
    "#data[data[\"Cost\"]==]=data[\"Cost\"].mean()\n",
    "data[\"Cost\"][data[\"Cost\"] > (Q3 + 1.5 * IQR)] = (Q3+1.5*IQR)\n",
    "print(data[data[\"Cost\"] > (Q3 + 1.5 * IQR)])\n",
    "sns.boxplot(data['Cost'])\n"
   ]
  },
  {
   "cell_type": "code",
   "execution_count": 12,
   "metadata": {},
   "outputs": [
    {
     "data": {
      "text/plain": [
       "<matplotlib.axes._subplots.AxesSubplot at 0x2354b7d2b00>"
      ]
     },
     "execution_count": 12,
     "metadata": {},
     "output_type": "execute_result"
    },
    {
     "data": {
      "image/png": "[encoded data removed]",
      "text/plain": [
       "<Figure size 432x288 with 1 Axes>"
      ]
     },
     "metadata": {
      "needs_background": "light"
     },
     "output_type": "display_data"
    }
   ],
   "source": [
    "sns.boxplot(data['Weight'])"
   ]
  },
  {
   "cell_type": "code",
   "execution_count": 13,
   "metadata": {},
   "outputs": [
    {
     "name": "stdout",
     "output_type": "stream",
     "text": [
      "Heighter Values\n",
      "            Cost      Weight     Weight1      Length      Height       Width\n",
      "40    398.326415  398.326415  398.326415  398.326415  398.326415  398.326415\n",
      "142  1441.250000   56.000000   60.000000   64.000000    9.600000    6.144000\n",
      "143  1441.250000   56.000000   60.000000   64.000000    9.600000    6.144000\n",
      "144  1441.250000   59.000000   63.400000   68.000000   10.812000    7.480000\n",
      "Empty DataFrame\n",
      "Columns: [Cost, Weight, Weight1, Length, Height, Width]\n",
      "Index: []\n"
     ]
    },
    {
     "data": {
      "text/plain": [
       "<matplotlib.axes._subplots.AxesSubplot at 0x2354b847860>"
      ]
     },
     "execution_count": 13,
     "metadata": {},
     "output_type": "execute_result"
    },
    {
     "data": {
      "image/png": "[encoded data removed]",
      "text/plain": [
       "<Figure size 432x288 with 1 Axes>"
      ]
     },
     "metadata": {
      "needs_background": "light"
     },
     "output_type": "display_data"
    }
   ],
   "source": [
    "# Total 4 values are in the outlayores we have to replace with the maximum value.\n",
    "Q1 = data[\"Weight\"].quantile(0.25)\n",
    "Q3 = data[\"Weight\"].quantile(0.75)\n",
    "IQR = Q3 - Q1\n",
    "#rint(data[\"Cost\"] < (Q1 - 1.5 * IQR)) |data[\"Cost\"] > (Q3 + 1.5 * IQR)) \n",
    "print(\"Heighter Values\")\n",
    "print(data[data[\"Weight\"] > (Q3 + 1.5 * IQR)])\n",
    "#data[data[\"Cost\"]==]=data[\"Cost\"].mean()\n",
    "data[\"Weight\"][data[\"Weight\"] > (Q3 + 1.5 * IQR)] = (Q3+1.5*IQR)\n",
    "print(data[data[\"Weight\"] > (Q3 + 1.5 * IQR)])\n",
    "sns.boxplot(data['Weight'])"
   ]
  },
  {
   "cell_type": "code",
   "execution_count": 14,
   "metadata": {},
   "outputs": [
    {
     "data": {
      "text/plain": [
       "<matplotlib.axes._subplots.AxesSubplot at 0x2354b89ccf8>"
      ]
     },
     "execution_count": 14,
     "metadata": {},
     "output_type": "execute_result"
    },
    {
     "data": {
      "image/png": "[encoded data removed]",
      "text/plain": [
       "<Figure size 432x288 with 1 Axes>"
      ]
     },
     "metadata": {
      "needs_background": "light"
     },
     "output_type": "display_data"
    }
   ],
   "source": [
    "sns.boxplot(data['Weight1'])"
   ]
  },
  {
   "cell_type": "code",
   "execution_count": 15,
   "metadata": {},
   "outputs": [
    {
     "name": "stdout",
     "output_type": "stream",
     "text": [
      "Heighter Values\n",
      "            Cost  Weight     Weight1      Length      Height       Width\n",
      "40    398.326415  53.075  398.326415  398.326415  398.326415  398.326415\n",
      "142  1441.250000  53.075   60.000000   64.000000    9.600000    6.144000\n",
      "143  1441.250000  53.075   60.000000   64.000000    9.600000    6.144000\n",
      "144  1441.250000  53.075   63.400000   68.000000   10.812000    7.480000\n",
      "Empty DataFrame\n",
      "Columns: [Cost, Weight, Weight1, Length, Height, Width]\n",
      "Index: []\n"
     ]
    },
    {
     "data": {
      "text/plain": [
       "<matplotlib.axes._subplots.AxesSubplot at 0x2354b912b38>"
      ]
     },
     "execution_count": 15,
     "metadata": {},
     "output_type": "execute_result"
    },
    {
     "data": {
      "image/png": "[encoded data removed]",
      "text/plain": [
       "<Figure size 432x288 with 1 Axes>"
      ]
     },
     "metadata": {
      "needs_background": "light"
     },
     "output_type": "display_data"
    }
   ],
   "source": [
    "# Total 4 values are in the outlayores we have to replace with the maximum value.\n",
    "Q1 = data[\"Weight1\"].quantile(0.25)\n",
    "Q3 = data[\"Weight1\"].quantile(0.75)\n",
    "IQR = Q3 - Q1\n",
    "#rint(data[\"Cost\"] < (Q1 - 1.5 * IQR)) |data[\"Cost\"] > (Q3 + 1.5 * IQR)) \n",
    "print(\"Heighter Values\")\n",
    "print(data[data[\"Weight1\"] > (Q3 + 1.5 * IQR)])\n",
    "#data[data[\"Cost\"]==]=data[\"Cost\"].mean()\n",
    "data[\"Weight1\"][data[\"Weight1\"] > (Q3 + 1.5 * IQR)] = (Q3+1.5*IQR)\n",
    "print(data[data[\"Weight1\"] > (Q3 + 1.5 * IQR)])\n",
    "sns.boxplot(data['Weight1'])"
   ]
  },
  {
   "cell_type": "code",
   "execution_count": 16,
   "metadata": {},
   "outputs": [
    {
     "data": {
      "text/plain": [
       "<matplotlib.axes._subplots.AxesSubplot at 0x2354b95d630>"
      ]
     },
     "execution_count": 16,
     "metadata": {},
     "output_type": "execute_result"
    },
    {
     "data": {
      "image/png": "[encoded data removed]",
      "text/plain": [
       "<Figure size 432x288 with 1 Axes>"
      ]
     },
     "metadata": {
      "needs_background": "light"
     },
     "output_type": "display_data"
    }
   ],
   "source": [
    "sns.boxplot(data['Length'])"
   ]
  },
  {
   "cell_type": "code",
   "execution_count": 17,
   "metadata": {},
   "outputs": [
    {
     "name": "stdout",
     "output_type": "stream",
     "text": [
      "Heighter Values\n",
      "            Cost  Weight  Weight1      Length      Height       Width\n",
      "40    398.326415  53.075     58.5  398.326415  398.326415  398.326415\n",
      "144  1441.250000  53.075     58.5   68.000000   10.812000    7.480000\n",
      "Empty DataFrame\n",
      "Columns: [Cost, Weight, Weight1, Length, Height, Width]\n",
      "Index: []\n"
     ]
    },
    {
     "data": {
      "text/plain": [
       "<matplotlib.axes._subplots.AxesSubplot at 0x2354b9e1b00>"
      ]
     },
     "execution_count": 17,
     "metadata": {},
     "output_type": "execute_result"
    },
    {
     "data": {
      "image/png": "[encoded data removed]",
      "text/plain": [
       "<Figure size 432x288 with 1 Axes>"
      ]
     },
     "metadata": {
      "needs_background": "light"
     },
     "output_type": "display_data"
    }
   ],
   "source": [
    "# Total 2 values are in the outlayores we have to replace with the maximum value.\n",
    "Q1 = data[\"Length\"].quantile(0.25)\n",
    "Q3 = data[\"Length\"].quantile(0.75)\n",
    "IQR = Q3 - Q1\n",
    "#rint(data[\"Cost\"] < (Q1 - 1.5 * IQR)) |data[\"Cost\"] > (Q3 + 1.5 * IQR)) \n",
    "print(\"Heighter Values\")\n",
    "print(data[data[\"Length\"] > (Q3 + 1.5 * IQR)])\n",
    "#data[data[\"Cost\"]==]=data[\"Cost\"].mean()\n",
    "data[\"Length\"][data[\"Length\"] > (Q3 + 1.5 * IQR)] = (Q3+1.5*IQR)\n",
    "print(data[data[\"Length\"] > (Q3 + 1.5 * IQR)])\n",
    "sns.boxplot(data['Length'])"
   ]
  },
  {
   "cell_type": "code",
   "execution_count": 18,
   "metadata": {},
   "outputs": [
    {
     "data": {
      "text/plain": [
       "<matplotlib.axes._subplots.AxesSubplot at 0x2354ba18710>"
      ]
     },
     "execution_count": 18,
     "metadata": {},
     "output_type": "execute_result"
    },
    {
     "data": {
      "image/png": "[encoded data removed]",
      "text/plain": [
       "<Figure size 432x288 with 1 Axes>"
      ]
     },
     "metadata": {
      "needs_background": "light"
     },
     "output_type": "display_data"
    }
   ],
   "source": [
    "sns.boxplot(data['Height'])"
   ]
  },
  {
   "cell_type": "code",
   "execution_count": 19,
   "metadata": {},
   "outputs": [
    {
     "name": "stdout",
     "output_type": "stream",
     "text": [
      "Heighter Values\n",
      "          Cost  Weight  Weight1  Length      Height       Width\n",
      "40  398.326415  53.075     58.5  64.575  398.326415  398.326415\n",
      "Empty DataFrame\n",
      "Columns: [Cost, Weight, Weight1, Length, Height, Width]\n",
      "Index: []\n"
     ]
    },
    {
     "data": {
      "text/plain": [
       "<matplotlib.axes._subplots.AxesSubplot at 0x2354baaa860>"
      ]
     },
     "execution_count": 19,
     "metadata": {},
     "output_type": "execute_result"
    },
    {
     "data": {
      "image/png": "[encoded data removed]",
      "text/plain": [
       "<Figure size 432x288 with 1 Axes>"
      ]
     },
     "metadata": {
      "needs_background": "light"
     },
     "output_type": "display_data"
    }
   ],
   "source": [
    "# Total 1 value are in the outlayores we have to replace with the maximum value.\n",
    "Q1 = data[\"Height\"].quantile(0.25)\n",
    "Q3 = data[\"Height\"].quantile(0.75)\n",
    "IQR = Q3 - Q1\n",
    "#rint(data[\"Cost\"] < (Q1 - 1.5 * IQR)) |data[\"Cost\"] > (Q3 + 1.5 * IQR)) \n",
    "print(\"Heighter Values\")\n",
    "print(data[data[\"Height\"] > (Q3 + 1.5 * IQR)])\n",
    "#data[data[\"Cost\"]==]=data[\"Cost\"].mean()\n",
    "data[\"Height\"][data[\"Height\"] > (Q3 + 1.5 * IQR)] = (Q3+1.5*IQR)\n",
    "print(data[data[\"Height\"] > (Q3 + 1.5 * IQR)])\n",
    "sns.boxplot(data['Height'])"
   ]
  },
  {
   "cell_type": "code",
   "execution_count": 20,
   "metadata": {},
   "outputs": [
    {
     "data": {
      "text/plain": [
       "<matplotlib.axes._subplots.AxesSubplot at 0x2354bb09e10>"
      ]
     },
     "execution_count": 20,
     "metadata": {},
     "output_type": "execute_result"
    },
    {
     "data": {
      "image/png": "[encoded data removed]",
      "text/plain": [
       "<Figure size 432x288 with 1 Axes>"
      ]
     },
     "metadata": {
      "needs_background": "light"
     },
     "output_type": "display_data"
    }
   ],
   "source": [
    "sns.boxplot(data['Width'])"
   ]
  },
  {
   "cell_type": "code",
   "execution_count": 21,
   "metadata": {},
   "outputs": [
    {
     "name": "stdout",
     "output_type": "stream",
     "text": [
      "Heighter Values\n",
      "          Cost  Weight  Weight1  Length    Height       Width\n",
      "40  398.326415  53.075     58.5  64.575  22.03105  398.326415\n",
      "Empty DataFrame\n",
      "Columns: [Cost, Weight, Weight1, Length, Height, Width]\n",
      "Index: []\n"
     ]
    },
    {
     "data": {
      "text/plain": [
       "<matplotlib.axes._subplots.AxesSubplot at 0x2354bb7e978>"
      ]
     },
     "execution_count": 21,
     "metadata": {},
     "output_type": "execute_result"
    },
    {
     "data": {
      "image/png": "[encoded data removed]",
      "text/plain": [
       "<Figure size 432x288 with 1 Axes>"
      ]
     },
     "metadata": {
      "needs_background": "light"
     },
     "output_type": "display_data"
    }
   ],
   "source": [
    "# Total 1 value are in the outlayores we have to replace with the maximum value.\n",
    "Q1 = data[\"Width\"].quantile(0.25)\n",
    "Q3 = data[\"Width\"].quantile(0.75)\n",
    "IQR = Q3 - Q1\n",
    "#rint(data[\"Cost\"] < (Q1 - 1.5 * IQR)) |data[\"Cost\"] > (Q3 + 1.5 * IQR)) \n",
    "print(\"Heighter Values\")\n",
    "print(data[data[\"Width\"] > (Q3 + 1.5 * IQR)])\n",
    "#data[data[\"Cost\"]==]=data[\"Cost\"].mean()\n",
    "data[\"Width\"][data[\"Width\"] > (Q3 + 1.5 * IQR)] = (Q3+1.5*IQR)\n",
    "print(data[data[\"Width\"] > (Q3 + 1.5 * IQR)])\n",
    "sns.boxplot(data['Width'])"
   ]
  },
  {
   "cell_type": "code",
   "execution_count": 22,
   "metadata": {},
   "outputs": [
    {
     "data": {
      "text/plain": [
       "<matplotlib.axes._subplots.AxesSubplot at 0x2354c04ba20>"
      ]
     },
     "execution_count": 22,
     "metadata": {},
     "output_type": "execute_result"
    },
    {
     "data": {
      "text/plain": [
       "<Figure size 432x288 with 0 Axes>"
      ]
     },
     "metadata": {},
     "output_type": "display_data"
    },
    {
     "data": {
      "image/png": "[encoded data removed]",
      "text/plain": [
       "<Figure size 1440x720 with 6 Axes>"
      ]
     },
     "metadata": {
      "needs_background": "light"
     },
     "output_type": "display_data"
    }
   ],
   "source": [
    "plt.figure(1) \n",
    "plt.figure(figsize=(20,10))\n",
    "plt.subplot(331)\n",
    "sns.distplot(data['Cost'])\n",
    "plt.subplot(332)\n",
    "sns.distplot(data['Weight'])\n",
    "plt.subplot(333)\n",
    "sns.distplot(data['Weight1'])\n",
    "plt.subplot(334)\n",
    "sns.distplot(data['Length'])\n",
    "plt.subplot(335)\n",
    "sns.distplot(data['Height'])\n",
    "plt.subplot(336)\n",
    "sns.distplot(data['Width'])"
   ]
  },
  {
   "cell_type": "code",
   "execution_count": 23,
   "metadata": {},
   "outputs": [],
   "source": [
    "#data.hist(figsize=(16,20), bins=50, xlabelsize=8,ylabelsize=8)\n",
    "#This need to dicuss with Shankar."
   ]
  },
  {
   "cell_type": "markdown",
   "metadata": {},
   "source": [
    "### 1.3 Bivariate Analysis\n",
    "The idea to analyze two variables at the same and find any relation between them.\n",
    "Scatter plot shows the relationship between two variable but does not indicates the strength of relationship amongst them. To find the strength of the relationship, we use Correlation. "
   ]
  },
  {
   "cell_type": "code",
   "execution_count": 24,
   "metadata": {},
   "outputs": [
    {
     "data": {
      "text/plain": [
       "<matplotlib.axes._subplots.AxesSubplot at 0x2354c198588>"
      ]
     },
     "execution_count": 24,
     "metadata": {},
     "output_type": "execute_result"
    },
    {
     "data": {
      "text/plain": [
       "<Figure size 432x288 with 0 Axes>"
      ]
     },
     "metadata": {},
     "output_type": "display_data"
    },
    {
     "data": {
      "image/png": "[encoded data removed]",
      "text/plain": [
       "<Figure size 1440x1080 with 4 Axes>"
      ]
     },
     "metadata": {
      "needs_background": "light"
     },
     "output_type": "display_data"
    }
   ],
   "source": [
    "plt.figure(1) \n",
    "plt.figure(figsize=(20,15))\n",
    "plt.subplot(221)\n",
    "sns.scatterplot(data['Weight'],data['Cost'])\n",
    "plt.subplot(222)\n",
    "sns.scatterplot(data['Weight1'],data['Cost'])\n",
    "plt.subplot(223)\n",
    "sns.scatterplot(data['Height'],data['Cost'])\n",
    "plt.subplot(224)\n",
    "sns.scatterplot(data['Width'],data['Cost'])"
   ]
  },
  {
   "cell_type": "markdown",
   "metadata": {},
   "source": [
    "<b>The given Cost and other files the bi variant analysis gives that data have\n",
    "Strong Postive Corrlation or\n",
    "Moderate Postive Corrlation</b>\n"
   ]
  },
  {
   "cell_type": "markdown",
   "metadata": {},
   "source": [
    "### 1.3 Corrlation Coeffiecient\n",
    "A correlation matrix is a table showing the value of the correlation coefficient (Correlation coefficients are used in statistics to measure how strong a relationship is between two variables. ) between sets of variables. Each attribute of the dataset is compared with the other attributes to find out the correlation coefficient. This analysis allows you to see which pairs have the highest correlation, the pairs which are highly correlated represent the same variance of the dataset thus we can further analyze them to understand which attribute among the pairs are most significant for building the model"
   ]
  },
  {
   "cell_type": "code",
   "execution_count": 25,
   "metadata": {},
   "outputs": [
    {
     "data": {
      "text/html": [
       "<div>\n",
       "<style scoped>\n",
       "    .dataframe tbody tr th:only-of-type {\n",
       "        vertical-align: middle;\n",
       "    }\n",
       "\n",
       "    .dataframe tbody tr th {\n",
       "        vertical-align: top;\n",
       "    }\n",
       "\n",
       "    .dataframe thead th {\n",
       "        text-align: right;\n",
       "    }\n",
       "</style>\n",
       "<table border=\"1\" class=\"dataframe\">\n",
       "  <thead>\n",
       "    <tr style=\"text-align: right;\">\n",
       "      <th></th>\n",
       "      <th>Cost</th>\n",
       "      <th>Weight</th>\n",
       "      <th>Weight1</th>\n",
       "      <th>Length</th>\n",
       "      <th>Height</th>\n",
       "      <th>Width</th>\n",
       "    </tr>\n",
       "  </thead>\n",
       "  <tbody>\n",
       "    <tr>\n",
       "      <th>Cost</th>\n",
       "      <td>1.000000</td>\n",
       "      <td>0.890825</td>\n",
       "      <td>0.893581</td>\n",
       "      <td>0.899237</td>\n",
       "      <td>0.720961</td>\n",
       "      <td>0.878893</td>\n",
       "    </tr>\n",
       "    <tr>\n",
       "      <th>Weight</th>\n",
       "      <td>0.890825</td>\n",
       "      <td>1.000000</td>\n",
       "      <td>0.999390</td>\n",
       "      <td>0.992213</td>\n",
       "      <td>0.654309</td>\n",
       "      <td>0.880956</td>\n",
       "    </tr>\n",
       "    <tr>\n",
       "      <th>Weight1</th>\n",
       "      <td>0.893581</td>\n",
       "      <td>0.999390</td>\n",
       "      <td>1.000000</td>\n",
       "      <td>0.994406</td>\n",
       "      <td>0.665302</td>\n",
       "      <td>0.884114</td>\n",
       "    </tr>\n",
       "    <tr>\n",
       "      <th>Length</th>\n",
       "      <td>0.899237</td>\n",
       "      <td>0.992213</td>\n",
       "      <td>0.994406</td>\n",
       "      <td>1.000000</td>\n",
       "      <td>0.721245</td>\n",
       "      <td>0.885436</td>\n",
       "    </tr>\n",
       "    <tr>\n",
       "      <th>Height</th>\n",
       "      <td>0.720961</td>\n",
       "      <td>0.654309</td>\n",
       "      <td>0.665302</td>\n",
       "      <td>0.721245</td>\n",
       "      <td>1.000000</td>\n",
       "      <td>0.802559</td>\n",
       "    </tr>\n",
       "    <tr>\n",
       "      <th>Width</th>\n",
       "      <td>0.878893</td>\n",
       "      <td>0.880956</td>\n",
       "      <td>0.884114</td>\n",
       "      <td>0.885436</td>\n",
       "      <td>0.802559</td>\n",
       "      <td>1.000000</td>\n",
       "    </tr>\n",
       "  </tbody>\n",
       "</table>\n",
       "</div>"
      ],
      "text/plain": [
       "             Cost    Weight   Weight1    Length    Height     Width\n",
       "Cost     1.000000  0.890825  0.893581  0.899237  0.720961  0.878893\n",
       "Weight   0.890825  1.000000  0.999390  0.992213  0.654309  0.880956\n",
       "Weight1  0.893581  0.999390  1.000000  0.994406  0.665302  0.884114\n",
       "Length   0.899237  0.992213  0.994406  1.000000  0.721245  0.885436\n",
       "Height   0.720961  0.654309  0.665302  0.721245  1.000000  0.802559\n",
       "Width    0.878893  0.880956  0.884114  0.885436  0.802559  1.000000"
      ]
     },
     "execution_count": 25,
     "metadata": {},
     "output_type": "execute_result"
    }
   ],
   "source": [
    "data.corr()"
   ]
  },
  {
   "cell_type": "markdown",
   "metadata": {},
   "source": [
    "### Heat Map"
   ]
  },
  {
   "cell_type": "code",
   "execution_count": 26,
   "metadata": {},
   "outputs": [
    {
     "data": {
      "image/png": "[encoded data removed]",
      "text/plain": [
       "<Figure size 864x576 with 2 Axes>"
      ]
     },
     "metadata": {
      "needs_background": "light"
     },
     "output_type": "display_data"
    }
   ],
   "source": [
    "plt.figure(figsize=(12, 8))\n",
    "\n",
    "vg_corr = data.corr()\n",
    "sns.heatmap(vg_corr, \n",
    "            xticklabels = vg_corr.columns.values,\n",
    "            yticklabels = vg_corr.columns.values,\n",
    "            annot = True);"
   ]
  },
  {
   "cell_type": "markdown",
   "metadata": {},
   "source": [
    "Above you can see the correlation network of all the variables selected, correlation value lies between -1 to +1. Highly correlated variables will have correlation value close to +1 and less correlated variables will have correlation value close to -1\n",
    "\n",
    "All the values are related to cost is close to 1 except height. so we can consider all the values for the predication"
   ]
  },
  {
   "cell_type": "markdown",
   "metadata": {},
   "source": [
    "# Build the Models using \n",
    "1. Linear Regression using Gradient Descent\n",
    "2. Linear Regression using Stochastic Gradient Descent\n",
    "3. Linear Regression using Mini-batch Gradient Descent\n",
    "4. Linear Regression using sklearn "
   ]
  },
  {
   "cell_type": "code",
   "execution_count": 27,
   "metadata": {},
   "outputs": [],
   "source": [
    "cost = np.asarray(data['Cost']) #Cost Weight Weight1 Length Height Width\n",
    "weight = np.asarray(data['Weight'])\n",
    "weight1 = np.asarray(data['Weight1'])\n",
    "length = np.asarray(data['Length'])\n",
    "height = np.asarray(data['Height'])\n",
    "width = np.asarray(data['Width'])"
   ]
  },
  {
   "cell_type": "code",
   "execution_count": 28,
   "metadata": {
    "scrolled": true
   },
   "outputs": [
    {
     "data": {
      "text/html": [
       "<div>\n",
       "<style scoped>\n",
       "    .dataframe tbody tr th:only-of-type {\n",
       "        vertical-align: middle;\n",
       "    }\n",
       "\n",
       "    .dataframe tbody tr th {\n",
       "        vertical-align: top;\n",
       "    }\n",
       "\n",
       "    .dataframe thead th {\n",
       "        text-align: right;\n",
       "    }\n",
       "</style>\n",
       "<table border=\"1\" class=\"dataframe\">\n",
       "  <thead>\n",
       "    <tr style=\"text-align: right;\">\n",
       "      <th></th>\n",
       "      <th>Cost</th>\n",
       "      <th>Weight</th>\n",
       "      <th>Weight1</th>\n",
       "      <th>Length</th>\n",
       "      <th>Height</th>\n",
       "      <th>Width</th>\n",
       "    </tr>\n",
       "  </thead>\n",
       "  <tbody>\n",
       "    <tr>\n",
       "      <th>0</th>\n",
       "      <td>242.00</td>\n",
       "      <td>23.200</td>\n",
       "      <td>25.4</td>\n",
       "      <td>30.000</td>\n",
       "      <td>11.5200</td>\n",
       "      <td>4.0200</td>\n",
       "    </tr>\n",
       "    <tr>\n",
       "      <th>1</th>\n",
       "      <td>290.00</td>\n",
       "      <td>24.000</td>\n",
       "      <td>26.3</td>\n",
       "      <td>31.200</td>\n",
       "      <td>12.4800</td>\n",
       "      <td>4.3056</td>\n",
       "    </tr>\n",
       "    <tr>\n",
       "      <th>2</th>\n",
       "      <td>340.00</td>\n",
       "      <td>23.900</td>\n",
       "      <td>26.5</td>\n",
       "      <td>31.100</td>\n",
       "      <td>12.3778</td>\n",
       "      <td>4.6961</td>\n",
       "    </tr>\n",
       "    <tr>\n",
       "      <th>3</th>\n",
       "      <td>363.00</td>\n",
       "      <td>26.300</td>\n",
       "      <td>29.0</td>\n",
       "      <td>33.500</td>\n",
       "      <td>12.7300</td>\n",
       "      <td>4.4555</td>\n",
       "    </tr>\n",
       "    <tr>\n",
       "      <th>4</th>\n",
       "      <td>430.00</td>\n",
       "      <td>26.500</td>\n",
       "      <td>29.0</td>\n",
       "      <td>34.000</td>\n",
       "      <td>12.4440</td>\n",
       "      <td>5.1340</td>\n",
       "    </tr>\n",
       "    <tr>\n",
       "      <th>5</th>\n",
       "      <td>450.00</td>\n",
       "      <td>26.800</td>\n",
       "      <td>29.7</td>\n",
       "      <td>34.700</td>\n",
       "      <td>13.6024</td>\n",
       "      <td>4.9274</td>\n",
       "    </tr>\n",
       "    <tr>\n",
       "      <th>6</th>\n",
       "      <td>500.00</td>\n",
       "      <td>26.800</td>\n",
       "      <td>29.7</td>\n",
       "      <td>34.500</td>\n",
       "      <td>14.1795</td>\n",
       "      <td>5.2785</td>\n",
       "    </tr>\n",
       "    <tr>\n",
       "      <th>7</th>\n",
       "      <td>390.00</td>\n",
       "      <td>27.600</td>\n",
       "      <td>30.0</td>\n",
       "      <td>35.000</td>\n",
       "      <td>12.6700</td>\n",
       "      <td>4.6900</td>\n",
       "    </tr>\n",
       "    <tr>\n",
       "      <th>8</th>\n",
       "      <td>450.00</td>\n",
       "      <td>27.600</td>\n",
       "      <td>30.0</td>\n",
       "      <td>35.100</td>\n",
       "      <td>14.0049</td>\n",
       "      <td>4.8438</td>\n",
       "    </tr>\n",
       "    <tr>\n",
       "      <th>9</th>\n",
       "      <td>500.00</td>\n",
       "      <td>28.500</td>\n",
       "      <td>30.7</td>\n",
       "      <td>36.200</td>\n",
       "      <td>14.2266</td>\n",
       "      <td>4.9594</td>\n",
       "    </tr>\n",
       "    <tr>\n",
       "      <th>10</th>\n",
       "      <td>475.00</td>\n",
       "      <td>28.400</td>\n",
       "      <td>31.0</td>\n",
       "      <td>36.200</td>\n",
       "      <td>14.2628</td>\n",
       "      <td>5.1042</td>\n",
       "    </tr>\n",
       "    <tr>\n",
       "      <th>11</th>\n",
       "      <td>500.00</td>\n",
       "      <td>28.700</td>\n",
       "      <td>31.0</td>\n",
       "      <td>36.200</td>\n",
       "      <td>14.3714</td>\n",
       "      <td>4.8146</td>\n",
       "    </tr>\n",
       "    <tr>\n",
       "      <th>12</th>\n",
       "      <td>500.00</td>\n",
       "      <td>29.100</td>\n",
       "      <td>31.5</td>\n",
       "      <td>36.400</td>\n",
       "      <td>13.7592</td>\n",
       "      <td>4.3680</td>\n",
       "    </tr>\n",
       "    <tr>\n",
       "      <th>13</th>\n",
       "      <td>340.00</td>\n",
       "      <td>29.500</td>\n",
       "      <td>32.0</td>\n",
       "      <td>37.300</td>\n",
       "      <td>13.9129</td>\n",
       "      <td>5.0728</td>\n",
       "    </tr>\n",
       "    <tr>\n",
       "      <th>14</th>\n",
       "      <td>600.00</td>\n",
       "      <td>29.400</td>\n",
       "      <td>32.0</td>\n",
       "      <td>37.200</td>\n",
       "      <td>14.9544</td>\n",
       "      <td>5.1708</td>\n",
       "    </tr>\n",
       "    <tr>\n",
       "      <th>15</th>\n",
       "      <td>600.00</td>\n",
       "      <td>29.400</td>\n",
       "      <td>32.0</td>\n",
       "      <td>37.200</td>\n",
       "      <td>15.4380</td>\n",
       "      <td>5.5800</td>\n",
       "    </tr>\n",
       "    <tr>\n",
       "      <th>16</th>\n",
       "      <td>700.00</td>\n",
       "      <td>30.400</td>\n",
       "      <td>33.0</td>\n",
       "      <td>38.300</td>\n",
       "      <td>14.8604</td>\n",
       "      <td>5.2854</td>\n",
       "    </tr>\n",
       "    <tr>\n",
       "      <th>17</th>\n",
       "      <td>700.00</td>\n",
       "      <td>30.400</td>\n",
       "      <td>33.0</td>\n",
       "      <td>38.500</td>\n",
       "      <td>14.9380</td>\n",
       "      <td>5.1975</td>\n",
       "    </tr>\n",
       "    <tr>\n",
       "      <th>18</th>\n",
       "      <td>610.00</td>\n",
       "      <td>30.900</td>\n",
       "      <td>33.5</td>\n",
       "      <td>38.600</td>\n",
       "      <td>15.6330</td>\n",
       "      <td>5.1338</td>\n",
       "    </tr>\n",
       "    <tr>\n",
       "      <th>19</th>\n",
       "      <td>650.00</td>\n",
       "      <td>31.000</td>\n",
       "      <td>33.5</td>\n",
       "      <td>38.700</td>\n",
       "      <td>14.4738</td>\n",
       "      <td>5.7276</td>\n",
       "    </tr>\n",
       "    <tr>\n",
       "      <th>20</th>\n",
       "      <td>575.00</td>\n",
       "      <td>31.300</td>\n",
       "      <td>34.0</td>\n",
       "      <td>39.500</td>\n",
       "      <td>15.1285</td>\n",
       "      <td>5.5695</td>\n",
       "    </tr>\n",
       "    <tr>\n",
       "      <th>21</th>\n",
       "      <td>685.00</td>\n",
       "      <td>31.400</td>\n",
       "      <td>34.0</td>\n",
       "      <td>39.200</td>\n",
       "      <td>15.9936</td>\n",
       "      <td>5.3704</td>\n",
       "    </tr>\n",
       "    <tr>\n",
       "      <th>22</th>\n",
       "      <td>620.00</td>\n",
       "      <td>31.500</td>\n",
       "      <td>34.5</td>\n",
       "      <td>39.700</td>\n",
       "      <td>15.5227</td>\n",
       "      <td>5.2801</td>\n",
       "    </tr>\n",
       "    <tr>\n",
       "      <th>23</th>\n",
       "      <td>680.00</td>\n",
       "      <td>31.800</td>\n",
       "      <td>35.0</td>\n",
       "      <td>40.600</td>\n",
       "      <td>15.4686</td>\n",
       "      <td>6.1306</td>\n",
       "    </tr>\n",
       "    <tr>\n",
       "      <th>24</th>\n",
       "      <td>700.00</td>\n",
       "      <td>31.900</td>\n",
       "      <td>35.0</td>\n",
       "      <td>40.500</td>\n",
       "      <td>16.2405</td>\n",
       "      <td>5.5890</td>\n",
       "    </tr>\n",
       "    <tr>\n",
       "      <th>25</th>\n",
       "      <td>725.00</td>\n",
       "      <td>31.800</td>\n",
       "      <td>35.0</td>\n",
       "      <td>40.900</td>\n",
       "      <td>16.3600</td>\n",
       "      <td>6.0532</td>\n",
       "    </tr>\n",
       "    <tr>\n",
       "      <th>26</th>\n",
       "      <td>720.00</td>\n",
       "      <td>32.000</td>\n",
       "      <td>35.0</td>\n",
       "      <td>40.600</td>\n",
       "      <td>16.3618</td>\n",
       "      <td>6.0900</td>\n",
       "    </tr>\n",
       "    <tr>\n",
       "      <th>27</th>\n",
       "      <td>714.00</td>\n",
       "      <td>32.700</td>\n",
       "      <td>36.0</td>\n",
       "      <td>41.500</td>\n",
       "      <td>16.5170</td>\n",
       "      <td>5.8515</td>\n",
       "    </tr>\n",
       "    <tr>\n",
       "      <th>28</th>\n",
       "      <td>850.00</td>\n",
       "      <td>32.800</td>\n",
       "      <td>36.0</td>\n",
       "      <td>41.600</td>\n",
       "      <td>16.8896</td>\n",
       "      <td>6.1984</td>\n",
       "    </tr>\n",
       "    <tr>\n",
       "      <th>29</th>\n",
       "      <td>1000.00</td>\n",
       "      <td>33.500</td>\n",
       "      <td>37.0</td>\n",
       "      <td>42.600</td>\n",
       "      <td>18.9570</td>\n",
       "      <td>6.6030</td>\n",
       "    </tr>\n",
       "    <tr>\n",
       "      <th>...</th>\n",
       "      <td>...</td>\n",
       "      <td>...</td>\n",
       "      <td>...</td>\n",
       "      <td>...</td>\n",
       "      <td>...</td>\n",
       "      <td>...</td>\n",
       "    </tr>\n",
       "    <tr>\n",
       "      <th>129</th>\n",
       "      <td>300.00</td>\n",
       "      <td>31.700</td>\n",
       "      <td>34.0</td>\n",
       "      <td>37.800</td>\n",
       "      <td>5.7078</td>\n",
       "      <td>4.1580</td>\n",
       "    </tr>\n",
       "    <tr>\n",
       "      <th>130</th>\n",
       "      <td>300.00</td>\n",
       "      <td>32.700</td>\n",
       "      <td>35.0</td>\n",
       "      <td>38.800</td>\n",
       "      <td>5.9364</td>\n",
       "      <td>4.3844</td>\n",
       "    </tr>\n",
       "    <tr>\n",
       "      <th>131</th>\n",
       "      <td>300.00</td>\n",
       "      <td>34.800</td>\n",
       "      <td>37.3</td>\n",
       "      <td>39.800</td>\n",
       "      <td>6.2884</td>\n",
       "      <td>4.0198</td>\n",
       "    </tr>\n",
       "    <tr>\n",
       "      <th>132</th>\n",
       "      <td>430.00</td>\n",
       "      <td>35.500</td>\n",
       "      <td>38.0</td>\n",
       "      <td>40.500</td>\n",
       "      <td>7.2900</td>\n",
       "      <td>4.5765</td>\n",
       "    </tr>\n",
       "    <tr>\n",
       "      <th>133</th>\n",
       "      <td>345.00</td>\n",
       "      <td>36.000</td>\n",
       "      <td>38.5</td>\n",
       "      <td>41.000</td>\n",
       "      <td>6.3960</td>\n",
       "      <td>3.9770</td>\n",
       "    </tr>\n",
       "    <tr>\n",
       "      <th>134</th>\n",
       "      <td>456.00</td>\n",
       "      <td>40.000</td>\n",
       "      <td>42.5</td>\n",
       "      <td>45.500</td>\n",
       "      <td>7.2800</td>\n",
       "      <td>4.3225</td>\n",
       "    </tr>\n",
       "    <tr>\n",
       "      <th>135</th>\n",
       "      <td>510.00</td>\n",
       "      <td>40.000</td>\n",
       "      <td>42.5</td>\n",
       "      <td>45.500</td>\n",
       "      <td>6.8250</td>\n",
       "      <td>4.4590</td>\n",
       "    </tr>\n",
       "    <tr>\n",
       "      <th>136</th>\n",
       "      <td>540.00</td>\n",
       "      <td>40.100</td>\n",
       "      <td>43.0</td>\n",
       "      <td>45.800</td>\n",
       "      <td>7.7860</td>\n",
       "      <td>5.1296</td>\n",
       "    </tr>\n",
       "    <tr>\n",
       "      <th>137</th>\n",
       "      <td>500.00</td>\n",
       "      <td>42.000</td>\n",
       "      <td>45.0</td>\n",
       "      <td>48.000</td>\n",
       "      <td>6.9600</td>\n",
       "      <td>4.8960</td>\n",
       "    </tr>\n",
       "    <tr>\n",
       "      <th>138</th>\n",
       "      <td>567.00</td>\n",
       "      <td>43.200</td>\n",
       "      <td>46.0</td>\n",
       "      <td>48.700</td>\n",
       "      <td>7.7920</td>\n",
       "      <td>4.8700</td>\n",
       "    </tr>\n",
       "    <tr>\n",
       "      <th>139</th>\n",
       "      <td>770.00</td>\n",
       "      <td>44.800</td>\n",
       "      <td>48.0</td>\n",
       "      <td>51.200</td>\n",
       "      <td>7.6800</td>\n",
       "      <td>5.3760</td>\n",
       "    </tr>\n",
       "    <tr>\n",
       "      <th>140</th>\n",
       "      <td>950.00</td>\n",
       "      <td>48.300</td>\n",
       "      <td>51.7</td>\n",
       "      <td>55.100</td>\n",
       "      <td>8.9262</td>\n",
       "      <td>6.1712</td>\n",
       "    </tr>\n",
       "    <tr>\n",
       "      <th>141</th>\n",
       "      <td>1250.00</td>\n",
       "      <td>52.000</td>\n",
       "      <td>56.0</td>\n",
       "      <td>59.700</td>\n",
       "      <td>10.6863</td>\n",
       "      <td>6.9849</td>\n",
       "    </tr>\n",
       "    <tr>\n",
       "      <th>142</th>\n",
       "      <td>1441.25</td>\n",
       "      <td>53.075</td>\n",
       "      <td>58.5</td>\n",
       "      <td>64.000</td>\n",
       "      <td>9.6000</td>\n",
       "      <td>6.1440</td>\n",
       "    </tr>\n",
       "    <tr>\n",
       "      <th>143</th>\n",
       "      <td>1441.25</td>\n",
       "      <td>53.075</td>\n",
       "      <td>58.5</td>\n",
       "      <td>64.000</td>\n",
       "      <td>9.6000</td>\n",
       "      <td>6.1440</td>\n",
       "    </tr>\n",
       "    <tr>\n",
       "      <th>144</th>\n",
       "      <td>1441.25</td>\n",
       "      <td>53.075</td>\n",
       "      <td>58.5</td>\n",
       "      <td>64.575</td>\n",
       "      <td>10.8120</td>\n",
       "      <td>7.4800</td>\n",
       "    </tr>\n",
       "    <tr>\n",
       "      <th>145</th>\n",
       "      <td>6.70</td>\n",
       "      <td>9.300</td>\n",
       "      <td>9.8</td>\n",
       "      <td>10.800</td>\n",
       "      <td>1.7388</td>\n",
       "      <td>1.0476</td>\n",
       "    </tr>\n",
       "    <tr>\n",
       "      <th>146</th>\n",
       "      <td>7.50</td>\n",
       "      <td>10.000</td>\n",
       "      <td>10.5</td>\n",
       "      <td>11.600</td>\n",
       "      <td>1.9720</td>\n",
       "      <td>1.1600</td>\n",
       "    </tr>\n",
       "    <tr>\n",
       "      <th>147</th>\n",
       "      <td>7.00</td>\n",
       "      <td>10.100</td>\n",
       "      <td>10.6</td>\n",
       "      <td>11.600</td>\n",
       "      <td>1.7284</td>\n",
       "      <td>1.1484</td>\n",
       "    </tr>\n",
       "    <tr>\n",
       "      <th>148</th>\n",
       "      <td>9.70</td>\n",
       "      <td>10.400</td>\n",
       "      <td>11.0</td>\n",
       "      <td>12.000</td>\n",
       "      <td>2.1960</td>\n",
       "      <td>1.3800</td>\n",
       "    </tr>\n",
       "    <tr>\n",
       "      <th>149</th>\n",
       "      <td>9.80</td>\n",
       "      <td>10.700</td>\n",
       "      <td>11.2</td>\n",
       "      <td>12.400</td>\n",
       "      <td>2.0832</td>\n",
       "      <td>1.2772</td>\n",
       "    </tr>\n",
       "    <tr>\n",
       "      <th>150</th>\n",
       "      <td>8.70</td>\n",
       "      <td>10.800</td>\n",
       "      <td>11.3</td>\n",
       "      <td>12.600</td>\n",
       "      <td>1.9782</td>\n",
       "      <td>1.2852</td>\n",
       "    </tr>\n",
       "    <tr>\n",
       "      <th>151</th>\n",
       "      <td>10.00</td>\n",
       "      <td>11.300</td>\n",
       "      <td>11.8</td>\n",
       "      <td>13.100</td>\n",
       "      <td>2.2139</td>\n",
       "      <td>1.2838</td>\n",
       "    </tr>\n",
       "    <tr>\n",
       "      <th>152</th>\n",
       "      <td>9.90</td>\n",
       "      <td>11.300</td>\n",
       "      <td>11.8</td>\n",
       "      <td>13.100</td>\n",
       "      <td>2.2139</td>\n",
       "      <td>1.1659</td>\n",
       "    </tr>\n",
       "    <tr>\n",
       "      <th>153</th>\n",
       "      <td>9.80</td>\n",
       "      <td>11.400</td>\n",
       "      <td>12.0</td>\n",
       "      <td>13.200</td>\n",
       "      <td>2.2044</td>\n",
       "      <td>1.1484</td>\n",
       "    </tr>\n",
       "    <tr>\n",
       "      <th>154</th>\n",
       "      <td>12.20</td>\n",
       "      <td>11.500</td>\n",
       "      <td>12.2</td>\n",
       "      <td>13.400</td>\n",
       "      <td>2.0904</td>\n",
       "      <td>1.3936</td>\n",
       "    </tr>\n",
       "    <tr>\n",
       "      <th>155</th>\n",
       "      <td>13.40</td>\n",
       "      <td>11.700</td>\n",
       "      <td>12.4</td>\n",
       "      <td>13.500</td>\n",
       "      <td>2.4300</td>\n",
       "      <td>1.2690</td>\n",
       "    </tr>\n",
       "    <tr>\n",
       "      <th>156</th>\n",
       "      <td>12.20</td>\n",
       "      <td>12.100</td>\n",
       "      <td>13.0</td>\n",
       "      <td>13.800</td>\n",
       "      <td>2.2770</td>\n",
       "      <td>1.2558</td>\n",
       "    </tr>\n",
       "    <tr>\n",
       "      <th>157</th>\n",
       "      <td>19.70</td>\n",
       "      <td>13.200</td>\n",
       "      <td>14.3</td>\n",
       "      <td>15.200</td>\n",
       "      <td>2.8728</td>\n",
       "      <td>2.0672</td>\n",
       "    </tr>\n",
       "    <tr>\n",
       "      <th>158</th>\n",
       "      <td>19.90</td>\n",
       "      <td>13.800</td>\n",
       "      <td>15.0</td>\n",
       "      <td>16.200</td>\n",
       "      <td>2.9322</td>\n",
       "      <td>1.8792</td>\n",
       "    </tr>\n",
       "  </tbody>\n",
       "</table>\n",
       "<p>159 rows × 6 columns</p>\n",
       "</div>"
      ],
      "text/plain": [
       "        Cost  Weight  Weight1  Length   Height   Width\n",
       "0     242.00  23.200     25.4  30.000  11.5200  4.0200\n",
       "1     290.00  24.000     26.3  31.200  12.4800  4.3056\n",
       "2     340.00  23.900     26.5  31.100  12.3778  4.6961\n",
       "3     363.00  26.300     29.0  33.500  12.7300  4.4555\n",
       "4     430.00  26.500     29.0  34.000  12.4440  5.1340\n",
       "5     450.00  26.800     29.7  34.700  13.6024  4.9274\n",
       "6     500.00  26.800     29.7  34.500  14.1795  5.2785\n",
       "7     390.00  27.600     30.0  35.000  12.6700  4.6900\n",
       "8     450.00  27.600     30.0  35.100  14.0049  4.8438\n",
       "9     500.00  28.500     30.7  36.200  14.2266  4.9594\n",
       "10    475.00  28.400     31.0  36.200  14.2628  5.1042\n",
       "11    500.00  28.700     31.0  36.200  14.3714  4.8146\n",
       "12    500.00  29.100     31.5  36.400  13.7592  4.3680\n",
       "13    340.00  29.500     32.0  37.300  13.9129  5.0728\n",
       "14    600.00  29.400     32.0  37.200  14.9544  5.1708\n",
       "15    600.00  29.400     32.0  37.200  15.4380  5.5800\n",
       "16    700.00  30.400     33.0  38.300  14.8604  5.2854\n",
       "17    700.00  30.400     33.0  38.500  14.9380  5.1975\n",
       "18    610.00  30.900     33.5  38.600  15.6330  5.1338\n",
       "19    650.00  31.000     33.5  38.700  14.4738  5.7276\n",
       "20    575.00  31.300     34.0  39.500  15.1285  5.5695\n",
       "21    685.00  31.400     34.0  39.200  15.9936  5.3704\n",
       "22    620.00  31.500     34.5  39.700  15.5227  5.2801\n",
       "23    680.00  31.800     35.0  40.600  15.4686  6.1306\n",
       "24    700.00  31.900     35.0  40.500  16.2405  5.5890\n",
       "25    725.00  31.800     35.0  40.900  16.3600  6.0532\n",
       "26    720.00  32.000     35.0  40.600  16.3618  6.0900\n",
       "27    714.00  32.700     36.0  41.500  16.5170  5.8515\n",
       "28    850.00  32.800     36.0  41.600  16.8896  6.1984\n",
       "29   1000.00  33.500     37.0  42.600  18.9570  6.6030\n",
       "..       ...     ...      ...     ...      ...     ...\n",
       "129   300.00  31.700     34.0  37.800   5.7078  4.1580\n",
       "130   300.00  32.700     35.0  38.800   5.9364  4.3844\n",
       "131   300.00  34.800     37.3  39.800   6.2884  4.0198\n",
       "132   430.00  35.500     38.0  40.500   7.2900  4.5765\n",
       "133   345.00  36.000     38.5  41.000   6.3960  3.9770\n",
       "134   456.00  40.000     42.5  45.500   7.2800  4.3225\n",
       "135   510.00  40.000     42.5  45.500   6.8250  4.4590\n",
       "136   540.00  40.100     43.0  45.800   7.7860  5.1296\n",
       "137   500.00  42.000     45.0  48.000   6.9600  4.8960\n",
       "138   567.00  43.200     46.0  48.700   7.7920  4.8700\n",
       "139   770.00  44.800     48.0  51.200   7.6800  5.3760\n",
       "140   950.00  48.300     51.7  55.100   8.9262  6.1712\n",
       "141  1250.00  52.000     56.0  59.700  10.6863  6.9849\n",
       "142  1441.25  53.075     58.5  64.000   9.6000  6.1440\n",
       "143  1441.25  53.075     58.5  64.000   9.6000  6.1440\n",
       "144  1441.25  53.075     58.5  64.575  10.8120  7.4800\n",
       "145     6.70   9.300      9.8  10.800   1.7388  1.0476\n",
       "146     7.50  10.000     10.5  11.600   1.9720  1.1600\n",
       "147     7.00  10.100     10.6  11.600   1.7284  1.1484\n",
       "148     9.70  10.400     11.0  12.000   2.1960  1.3800\n",
       "149     9.80  10.700     11.2  12.400   2.0832  1.2772\n",
       "150     8.70  10.800     11.3  12.600   1.9782  1.2852\n",
       "151    10.00  11.300     11.8  13.100   2.2139  1.2838\n",
       "152     9.90  11.300     11.8  13.100   2.2139  1.1659\n",
       "153     9.80  11.400     12.0  13.200   2.2044  1.1484\n",
       "154    12.20  11.500     12.2  13.400   2.0904  1.3936\n",
       "155    13.40  11.700     12.4  13.500   2.4300  1.2690\n",
       "156    12.20  12.100     13.0  13.800   2.2770  1.2558\n",
       "157    19.70  13.200     14.3  15.200   2.8728  2.0672\n",
       "158    19.90  13.800     15.0  16.200   2.9322  1.8792\n",
       "\n",
       "[159 rows x 6 columns]"
      ]
     },
     "execution_count": 28,
     "metadata": {},
     "output_type": "execute_result"
    }
   ],
   "source": [
    "data"
   ]
  },
  {
   "cell_type": "code",
   "execution_count": 29,
   "metadata": {},
   "outputs": [],
   "source": [
    "# Define the features and output variable\n",
    "X = data.iloc[:,1:]\n",
    "y = data.iloc[:,0]"
   ]
  },
  {
   "cell_type": "code",
   "execution_count": 30,
   "metadata": {},
   "outputs": [],
   "source": [
    "#Feature scaling \n",
    "from sklearn.preprocessing import StandardScaler\n",
    "sc = StandardScaler()\n",
    "X = sc.fit_transform(X)"
   ]
  },
  {
   "cell_type": "code",
   "execution_count": 31,
   "metadata": {},
   "outputs": [],
   "source": [
    "# Divide the data train and test numpy arrays with 70:30 ratio\n",
    "from sklearn.model_selection import train_test_split\n",
    "X_train, X_test, y_train, y_test = train_test_split(X, y, test_size=0.2, random_state=42)\n",
    "\n",
    "X_train = np.c_[np.ones(len(X_train),dtype='int64'),X_train]  # Additional column for bias parameter  \n",
    "y_train = y_train.reset_index(drop=True)\n",
    "                        \n",
    "X_test = np.c_[np.ones(len(X_test),dtype='int64'),X_test] # Additional column for bias parameter\n",
    "y_test = y_test.reset_index(drop=True)"
   ]
  },
  {
   "cell_type": "code",
   "execution_count": 32,
   "metadata": {},
   "outputs": [],
   "source": [
    "# Generic cost function for calculating the Average Sum of Squared Error\n",
    "def cost_function(X, Y, Weights):\n",
    "    m = len(X)\n",
    "    cost = np.sum((X.dot(Weights) - Y) ** 2)/(2 * m)\n",
    "    return cost\n",
    "\n",
    "# Function to calculate the performance measures for a model based on actual and predcited values\n",
    "def model_measures(X,Y,y_pred):\n",
    "    num_data = X.shape[0]\n",
    "    mse = mean_squared_error(Y,y_pred)\n",
    "    rmse = math.sqrt(mse)\n",
    "    rse = mse * num_data\n",
    "    r2 = r2_score(Y,y_pred)\n",
    "    return mse, rmse, r2\n",
    "\n",
    "# Function to Predict output variable using optimized model parameters\n",
    "def model_prediction(X,weights):\n",
    "    y_pred = weights[0] + np.dot(X[:,1],weights[1]) + np.dot(X[:,2],weights[2]) + np.dot(X[:,3],weights[3]) + np.dot(X[:,4],weights[4]) + np.dot(X[:,5],weights[5])\n",
    "    return y_pred"
   ]
  },
  {
   "cell_type": "markdown",
   "metadata": {},
   "source": [
    "# Multiple Linear Regression model using Gradient Descent"
   ]
  },
  {
   "cell_type": "code",
   "execution_count": 33,
   "metadata": {},
   "outputs": [],
   "source": [
    "# Function to calculate the Gradient Descent\n",
    "def gradient_descent(X, Y, Weights, alpha, iterations):\n",
    "    cost_history = [0] * iterations\n",
    "    m = len(Y)\n",
    " \n",
    "    for iteration in range(iterations):\n",
    "        hypothesis = X.dot(Weights)\n",
    "        loss = hypothesis - Y\n",
    "        gradient = X.T.dot(loss)/m\n",
    "        Weights = Weights - alpha * gradient\n",
    "        cost = cost_function(X, Y, Weights)\n",
    "        cost_history[iteration] = cost\n",
    "    return Weights, cost_history"
   ]
  },
  {
   "cell_type": "code",
   "execution_count": 34,
   "metadata": {},
   "outputs": [
    {
     "data": {
      "text/plain": [
       "array([385.30876568,  65.3407427 ,  68.42617531,  68.45615091,\n",
       "        19.21938263, 102.68844972])"
      ]
     },
     "execution_count": 34,
     "metadata": {},
     "output_type": "execute_result"
    }
   ],
   "source": [
    "# Gradient Descent for the Train data\n",
    "Weights_GD = np.zeros(X_train.shape[1])\n",
    "alpha_GD = 0.01\n",
    "iter_GD =1000\n",
    "new_Weights_GD, cost_history_GD = gradient_descent(X_train, y_train, Weights_GD, alpha_GD, iter_GD)\n",
    "new_Weights_GD"
   ]
  },
  {
   "cell_type": "code",
   "execution_count": 35,
   "metadata": {},
   "outputs": [
    {
     "data": {
      "image/png": "[encoded data removed]",
      "text/plain": [
       "<Figure size 432x288 with 1 Axes>"
      ]
     },
     "metadata": {
      "needs_background": "light"
     },
     "output_type": "display_data"
    }
   ],
   "source": [
    "##### Plot the Cost change for different iterations\n",
    "x_axis = np.linspace(0, iter_GD, len(cost_history_GD), endpoint=True)\n",
    "plt.plot(x_axis, cost_history_GD)\n",
    "plt.xlabel('iterations')\n",
    "plt.ylabel('cost')\n",
    "plt.show()"
   ]
  },
  {
   "cell_type": "markdown",
   "metadata": {},
   "source": [
    "##### Gradient Descent - MSE, RMSE, R2 Score"
   ]
  },
  {
   "cell_type": "code",
   "execution_count": 36,
   "metadata": {},
   "outputs": [
    {
     "name": "stdout",
     "output_type": "stream",
     "text": [
      "19373.410148151717 139.18839803716298 0.8288685332896344\n",
      "19769.844909822343 140.60528051898459 0.8610099547769429\n"
     ]
    }
   ],
   "source": [
    "# Find MSE, RMSE, R^2 Score for the Gradient Descent Model\n",
    "y_pred_GD = model_prediction(X_train,new_Weights_GD)\n",
    "mse_GD, rmse_GD, r2_GD = model_measures(X_train,y_train,y_pred_GD)\n",
    "print(mse_GD, rmse_GD, r2_GD)\n",
    "\n",
    "# Find MSE, RMSE, R^2 Score for the Gradient Descent Model\n",
    "y_pred_test_GD = model_prediction(X_test,new_Weights_GD)\n",
    "mse_test_GD, rmse_test_GD, r2_test_GD = model_measures(X_test,y_test,y_pred_test_GD)\n",
    "print(mse_test_GD, rmse_test_GD, r2_test_GD)"
   ]
  },
  {
   "cell_type": "code",
   "execution_count": 37,
   "metadata": {},
   "outputs": [
    {
     "data": {
      "text/plain": [
       "<matplotlib.collections.PathCollection at 0x2354d8637b8>"
      ]
     },
     "execution_count": 37,
     "metadata": {},
     "output_type": "execute_result"
    },
    {
     "data": {
      "image/png": "[encoded data removed]",
      "text/plain": [
       "<Figure size 432x288 with 1 Axes>"
      ]
     },
     "metadata": {
      "needs_background": "light"
     },
     "output_type": "display_data"
    }
   ],
   "source": [
    "y_pred_GD_test = model_prediction(X_test,new_Weights_GD)\n",
    "plt.scatter(pd.DataFrame(X_test)[4], y_test, color='Blue')\n",
    "plt.scatter(pd.DataFrame(X_test)[4], y_pred_GD_test, color='Green')"
   ]
  },
  {
   "cell_type": "code",
   "execution_count": 38,
   "metadata": {},
   "outputs": [],
   "source": [
    "X_test_GD = pd.DataFrame(X_test)\n",
    "X_test_GD\n",
    "y_pred_GD_test = pd.DataFrame(y_pred_GD_test)"
   ]
  },
  {
   "cell_type": "markdown",
   "metadata": {},
   "source": [
    "# Multiple Linear Regression model using Stochastic Gradient Descent"
   ]
  },
  {
   "cell_type": "code",
   "execution_count": 39,
   "metadata": {},
   "outputs": [],
   "source": [
    "# Function to calculate Stochastic Gradient Descent\n",
    "def stochastic_gradient_descent(X, Y, Weights, alpha, iterations):\n",
    "    cost_history = [0] * iterations\n",
    "    cnt = len(Y)\n",
    "  \n",
    "    for iteration in range(iterations):\n",
    "        cost = 0.0\n",
    "        for i in range(cnt):\n",
    "            rand_ind = np.random.randint(0,cnt)\n",
    "            hypothesis = X[i].dot(Weights)\n",
    "            loss = hypothesis - Y[i]\n",
    "            gradient = X[i].T.dot(loss)\n",
    "            Weights = Weights - alpha * gradient/cnt\n",
    "            cost += cost_function(X[i], Y[i], Weights)\n",
    "        cost_history[iteration] = cost\n",
    "    return Weights, cost_history"
   ]
  },
  {
   "cell_type": "code",
   "execution_count": 40,
   "metadata": {
    "scrolled": true
   },
   "outputs": [
    {
     "data": {
      "text/plain": [
       "array([366.74489449,  70.78466226,  71.74540398,  69.53941176,\n",
       "        29.73048596,  83.87274273])"
      ]
     },
     "execution_count": 40,
     "metadata": {},
     "output_type": "execute_result"
    }
   ],
   "source": [
    "# Stochastics Gradient Descent for the data\n",
    "Weights_SGD = np.zeros(X_train.shape[1])\n",
    "alpha_SGD = 0.01\n",
    "iter_SGD =300\n",
    "new_Weights_SGD, cost_history_SGD = stochastic_gradient_descent(X_train, y_train, Weights_SGD, alpha_SGD, iter_SGD)\n",
    "new_Weights_SGD"
   ]
  },
  {
   "cell_type": "code",
   "execution_count": 41,
   "metadata": {},
   "outputs": [
    {
     "data": {
      "image/png": "[encoded data removed]",
      "text/plain": [
       "<Figure size 432x288 with 1 Axes>"
      ]
     },
     "metadata": {
      "needs_background": "light"
     },
     "output_type": "display_data"
    }
   ],
   "source": [
    "# Plot the Cost change for different iterations\n",
    "x_axis = np.linspace(0, iter_SGD, len(cost_history_SGD), endpoint=True)\n",
    "plt.plot(x_axis, cost_history_SGD)\n",
    "plt.xlabel('iterations')\n",
    "plt.ylabel('cost')\n",
    "plt.show()"
   ]
  },
  {
   "cell_type": "markdown",
   "metadata": {},
   "source": [
    "###### Stochastic Gradient Descent - MSE, RMSE, R2 Score"
   ]
  },
  {
   "cell_type": "code",
   "execution_count": 42,
   "metadata": {},
   "outputs": [
    {
     "name": "stdout",
     "output_type": "stream",
     "text": [
      "19885.86372505739 141.01724619725556 0.8243418685689575\n",
      "21964.405525871145 148.20393222135215 0.8455813016610139\n"
     ]
    }
   ],
   "source": [
    "# Find MSE, RMSE, R^2 Score for the Stochastic Gradient Descent Model\n",
    "y_pred_SGD = model_prediction(X_train,new_Weights_SGD)\n",
    "mse_SGD, rmse_SGD, r2_SGD = model_measures(X_train,y_train,y_pred_SGD)\n",
    "print(mse_SGD, rmse_SGD, r2_SGD)\n",
    "\n",
    "# Find MSE, RMSE, R^2 Score for the Stochastic Gradient Descent Model\n",
    "y_pred_SGD_test = model_prediction(X_test,new_Weights_SGD)\n",
    "mse_SGD_test, rmse_SGD_test, r2_SGD_test = model_measures(X_test,y_test,y_pred_SGD_test)\n",
    "print(mse_SGD_test, rmse_SGD_test, r2_SGD_test)\n"
   ]
  },
  {
   "cell_type": "markdown",
   "metadata": {},
   "source": [
    "# Multiple Linear Regression model using Minibatch Gradient Descent"
   ]
  },
  {
   "cell_type": "code",
   "execution_count": 43,
   "metadata": {},
   "outputs": [],
   "source": [
    "# Function to Divide the data into mini batches as per batch Size\n",
    "def create_mini_batches(X, Y, batch_size): \n",
    "    mini_batches = []\n",
    "    Y_n = np.array(Y, dtype = X.dtype)\n",
    "    data = np.hstack((X, Y_n[:,None])) \n",
    "    np.random.shuffle(data)\n",
    "    n_minibatches = data.shape[0] // batch_size \n",
    "    i = 0\n",
    "  \n",
    "    for i in range(n_minibatches + 1): \n",
    "        mini_batch = data[i * batch_size:(i + 1)*batch_size, :] \n",
    "        X_mini = mini_batch[:, :-1] \n",
    "        Y_mini = mini_batch[:, -1].reshape((-1, 1)) \n",
    "        mini_batches.append((X_mini, Y_mini)) \n",
    "        \n",
    "    if data.shape[0] % batch_size != 0: \n",
    "        mini_batch = data[i * batch_size:data.shape[0]] \n",
    "        X_mini = mini_batch[:, :-1] \n",
    "        Y_mini = mini_batch[:, -1].reshape((-1, 1)) \n",
    "        mini_batches.append((X_mini, Y_mini))\n",
    "        \n",
    "    return mini_batches"
   ]
  },
  {
   "cell_type": "code",
   "execution_count": 44,
   "metadata": {},
   "outputs": [],
   "source": [
    "# Function for Mini Batch Gradient Descent\n",
    "def minibatch_gradient_descent(X, Y, Weights, alpha, iterations, batch_size):\n",
    "    cost_history = [0] * iterations\n",
    "    m = batch_size\n",
    "\n",
    "    for iteration in range(iterations):\n",
    "        mini_batches = create_mini_batches(X, Y, batch_size)\n",
    "        cost = 0.0\n",
    "        for batch in mini_batches:\n",
    "            X_m,Y_m = batch\n",
    "            Y_m = pd.Series(map(lambda x: x[0], Y_m))\n",
    "            hypothesis = X_m.dot(Weights)\n",
    "            loss = hypothesis - Y_m\n",
    "            gradient = X_m.T.dot(loss) \n",
    "            Weights = Weights - alpha * gradient\n",
    "            cost += cost_function(X_m, Y_m, Weights)\n",
    "        cost_history[iteration] = cost\n",
    "    return Weights, cost_history"
   ]
  },
  {
   "cell_type": "code",
   "execution_count": 45,
   "metadata": {},
   "outputs": [
    {
     "data": {
      "text/plain": [
       "array([382.40174908,  66.91406582,  69.2877568 ,  64.61692614,\n",
       "        10.9514416 ,  82.75764926])"
      ]
     },
     "execution_count": 45,
     "metadata": {},
     "output_type": "execute_result"
    }
   ],
   "source": [
    "# Mini Batch Gradient Descent\n",
    "Weights_MBGD = np.zeros(X_train.shape[1])\n",
    "alpha_MBGD = 0.01\n",
    "iter_MBGD = 5\n",
    "batch_size = 10\n",
    "new_Weights_MBGD, cost_history_MBGD = minibatch_gradient_descent(X_train, y_train, Weights_MBGD, alpha_MBGD, iter_MBGD, batch_size)\n",
    "new_Weights_MBGD"
   ]
  },
  {
   "cell_type": "code",
   "execution_count": 46,
   "metadata": {},
   "outputs": [
    {
     "data": {
      "image/png": "[encoded data removed]",
      "text/plain": [
       "<Figure size 432x288 with 1 Axes>"
      ]
     },
     "metadata": {
      "needs_background": "light"
     },
     "output_type": "display_data"
    }
   ],
   "source": [
    "x_axis = np.linspace(0, iter_MBGD, len(cost_history_MBGD), endpoint=True)\n",
    "plt.plot(x_axis, cost_history_MBGD)\n",
    "plt.xlabel('iterations')\n",
    "plt.ylabel('cost')\n",
    "plt.show()"
   ]
  },
  {
   "cell_type": "markdown",
   "metadata": {},
   "source": [
    "###### Minibatch Gradient Descent - MSE, RMSE, R2 Score"
   ]
  },
  {
   "cell_type": "code",
   "execution_count": 47,
   "metadata": {},
   "outputs": [
    {
     "name": "stdout",
     "output_type": "stream",
     "text": [
      "20188.235656809786 142.08531119299343 0.8216709215453242\n",
      "23264.016005593032 152.52546018810443 0.8364445117583699\n"
     ]
    }
   ],
   "source": [
    "# Find MSE, RMSE, R^2 Score for the Mini Batch Gradient Descent Model\n",
    "y_pred_MBGD = model_prediction(X_train,new_Weights_MBGD)\n",
    "mse_MBGD, rmse_MBGD, r2_MBGD = model_measures(X_train,y_train,y_pred_MBGD)\n",
    "print(mse_MBGD, rmse_MBGD, r2_MBGD)\n",
    "\n",
    "y_pred_MBGD_test = model_prediction(X_test,new_Weights_MBGD)\n",
    "mse_MBGD_test, rmse_MBGD_test, r2_MBGD_test = model_measures(X_test,y_test,y_pred_MBGD_test)\n",
    "print(mse_MBGD_test, rmse_MBGD_test, r2_MBGD_test)"
   ]
  },
  {
   "cell_type": "markdown",
   "metadata": {},
   "source": [
    "# Multiple Linear Regression model using LinearRegression Method from sklearn.linear_model"
   ]
  },
  {
   "cell_type": "code",
   "execution_count": 48,
   "metadata": {},
   "outputs": [
    {
     "name": "stdout",
     "output_type": "stream",
     "text": [
      "383.93754560612825\n",
      "[   0.         -217.21104031   95.82198561  313.26308406  -33.37289913\n",
      "  154.5890739 ]\n"
     ]
    }
   ],
   "source": [
    "#sklearn Linear Regression\n",
    "from sklearn.linear_model import LinearRegression\n",
    "l_reg = LinearRegression()\n",
    "l_reg.fit(X_train,y_train)\n",
    "print(l_reg.intercept_)\n",
    "print(l_reg.coef_)"
   ]
  },
  {
   "cell_type": "markdown",
   "metadata": {},
   "source": [
    "###### sklearn.linear_model.LinearRegression - MSE, RMSE, R2 Score"
   ]
  },
  {
   "cell_type": "code",
   "execution_count": 49,
   "metadata": {},
   "outputs": [
    {
     "name": "stdout",
     "output_type": "stream",
     "text": [
      "19011.27999900525 137.8813983066797 0.8320673435708171\n",
      "21263.421293378564 145.81982476117082 0.8505095057323766\n"
     ]
    }
   ],
   "source": [
    "# Find MSE, RMSE and R^2 score for the sklearn Linear Regression Model\n",
    "y_pred_skl = l_reg.predict(X_train)\n",
    "mse_skl, rmse_skl, r2_skl = model_measures(X_train, y_train, y_pred_skl)\n",
    "print(mse_skl, rmse_skl, r2_skl)\n",
    "\n",
    "y_pred_skl_test = l_reg.predict(X_test)\n",
    "mse_skl_test, rmse_skl_test, r2_skl_test = model_measures(X_test, y_test, y_pred_skl_test)\n",
    "print(mse_skl_test, rmse_skl_test, r2_skl_test)"
   ]
  },
  {
   "cell_type": "markdown",
   "metadata": {},
   "source": [
    "# Using sklearn SGDRegressor to build the model"
   ]
  },
  {
   "cell_type": "code",
   "execution_count": 51,
   "metadata": {},
   "outputs": [
    {
     "name": "stdout",
     "output_type": "stream",
     "text": [
      "[195.95299793]\n",
      "[189.20912093  70.28826081  71.01239041  68.54721762  29.87643016\n",
      "  85.12654732]\n"
     ]
    }
   ],
   "source": [
    "#sklearn SGD \n",
    "from sklearn.linear_model import SGDRegressor\n",
    "reg_sgd = SGDRegressor(alpha=0.01, max_iter=25)\n",
    "reg_sgd.fit(X_train, y_train)\n",
    "print(reg_sgd.intercept_)\n",
    "print(reg_sgd.coef_)"
   ]
  },
  {
   "cell_type": "code",
   "execution_count": 55,
   "metadata": {},
   "outputs": [
    {
     "name": "stdout",
     "output_type": "stream",
     "text": [
      "19514.140971692348 139.6930240623788 0.8276254133608405\n"
     ]
    }
   ],
   "source": [
    "# Find MSE, RMSE and R^2 score for the sklearn SGD Regression Model for Train data\n",
    "y_pred_sksgd = reg_sgd.predict(X_train)\n",
    "mse_sksgd, rmse_sksgd, r2_sksgd = model_measures(X_train, y_train, y_pred_sksgd)\n",
    "print(mse_sksgd, rmse_sksgd, r2_sksgd)"
   ]
  },
  {
   "cell_type": "code",
   "execution_count": 56,
   "metadata": {},
   "outputs": [
    {
     "name": "stdout",
     "output_type": "stream",
     "text": [
      "19401.889591097613 139.2906658433996 0.8635968302240136\n"
     ]
    }
   ],
   "source": [
    "# Find MSE, RMSE and R^2 score for the sklearn SGD Regression Model for Test Data\n",
    "y_pred_sksgd_test = reg_sgd.predict(X_test)\n",
    "mse_sksgd_t, rmse_sksgd_t, r2_sksgd_t = model_measures(X_test, y_test, y_pred_sksgd_test)\n",
    "print(mse_sksgd_t, rmse_sksgd_t, r2_sksgd_t)"
   ]
  },
  {
   "cell_type": "code",
   "execution_count": null,
   "metadata": {},
   "outputs": [],
   "source": []
  }
 ],
 "metadata": {
  "kernelspec": {
   "display_name": "Python 3",
   "language": "python",
   "name": "python3"
  },
  "language_info": {
   "codemirror_mode": {
    "name": "ipython",
    "version": 3
   },
   "file_extension": ".py",
   "mimetype": "text/x-python",
   "name": "python",
   "nbconvert_exporter": "python",
   "pygments_lexer": "ipython3",
   "version": "3.7.3"
  }
 },
 "nbformat": 4,
 "nbformat_minor": 2
}
