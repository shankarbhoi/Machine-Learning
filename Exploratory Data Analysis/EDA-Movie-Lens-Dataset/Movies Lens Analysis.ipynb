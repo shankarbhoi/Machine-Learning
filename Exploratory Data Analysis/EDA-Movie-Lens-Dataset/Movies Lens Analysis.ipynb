{
 "cells": [
  {
   "cell_type": "markdown",
   "metadata": {},
   "source": [
    "# Background of Problem Statement :\n",
    "\n",
    "The GroupLens Research Project is a research group in the Department of Computer Science and Engineering at the University of Minnesota. Members of the GroupLens Research Project are involved in many research projects related to the fields of information filtering, collaborative filtering, and recommender systems. The project is led by professors John Riedl and Joseph Konstan. The project began to explore automated collaborative filtering in 1992 but is most well known for its worldwide trial of an automated collaborative filtering system for Usenet news in 1996. Since then the project has expanded its scope to research overall information by filtering solutions, integrating into content-based methods, as well as, improving current collaborative filtering technology."
   ]
  },
  {
   "cell_type": "markdown",
   "metadata": {},
   "source": [
    "# Problem Objective :\n",
    "    \n",
    "Here, we ask you to perform the analysis using the Exploratory Data Analysis technique. You need to find features affecting the ratings of any particular movie and build a model to predict the movie ratings.\n",
    "\n",
    "Analysis Tasks to be performed:\n",
    "\n",
    "1. Import the three datasets\n",
    "\n",
    "2. Create a new dataset with the following columns MovieID Title UserID Age Gender Occupation Rating. (Hint: (i) Merge two tables at a time. (ii) Merge the tables using two primary keys MovieID & UserId)\n",
    "\n",
    "3. Explore the datasets using visual representations (graphs or tables), \n",
    "\n",
    "4. also include your comments on the following:\n",
    "    a. User Age Distribution\n",
    "\n",
    "    b. User rating of the movie “Toy Story”\n",
    "\n",
    "    c. Top 25 movies by viewership rating\n",
    "\n",
    "    d. Find the ratings for all the movies reviewed by for a particular user of user id = 2696\n",
    "    \n",
    "5. Feature Engineering:\n",
    "            \n",
    "    Use column genres:\n",
    "\n",
    "    a. Find out all the unique genres (Hint: split the data in column genre making a list and then process the data to find out only the unique categories of genres)\n",
    "\n",
    "    b. Create a separate column for each genre category with a one-hot encoding ( 1 and 0) whether or not the movie belongs to that genre. \n",
    "        \n",
    "    c. Determine the features affecting the ratings of any particular movie.\n",
    "    \n",
    "    d. Develop an appropriate model to predict the movie ratings"
   ]
  },
  {
   "cell_type": "markdown",
   "metadata": {},
   "source": [
    "# Ratings.dat\n",
    "\n",
    "Format - UserID::MovieID::Rating::Timestamp\n",
    "\n",
    "Field Description\n",
    "\n",
    "UserID - Unique identification for each user\n",
    "\n",
    "MovieID - Unique identification for each movie\n",
    "\n",
    "Rating - User rating for each movie\n",
    "\n",
    "Timestamp - Timestamp generated while adding user review"
   ]
  },
  {
   "cell_type": "markdown",
   "metadata": {},
   "source": [
    "# Users.dat\n",
    "Format - UserID::Gender::Age::Occupation::Zip-code\n",
    "\n",
    "Field - Description\n",
    "\n",
    "UserID - Unique identification for each user\n",
    "\n",
    "Genere - Category of each movie\n",
    "\n",
    "Age - User’s age\n",
    "\n",
    "Occupation - User’s Occupation\n",
    "\n",
    "Zip-code - Zip Code for the user’s location"
   ]
  },
  {
   "cell_type": "markdown",
   "metadata": {},
   "source": [
    "# Movies.dat\n",
    "\n",
    "Format - MovieID::Title::Genres\n",
    "\n",
    "Field - Description\n",
    "\n",
    "MovieID - Unique identification for each movie\n",
    "\n",
    "Title - A title for each movie\n",
    "\n",
    "Genres - Category of each movie"
   ]
  },
  {
   "cell_type": "code",
   "execution_count": null,
   "metadata": {},
   "outputs": [],
   "source": [
    "#Import the libraries\n",
    "import pandas as pd\n",
    "import numpy as np\n",
    "import matplotlib.pyplot as plt\n",
    "import seaborn as sns\n",
    "%matplotlib inline\n",
    "import warnings\n",
    "warnings.filterwarnings(\"ignore\")\n",
    "\n",
    "from datetime import datetime"
   ]
  },
  {
   "cell_type": "code",
   "execution_count": null,
   "metadata": {},
   "outputs": [],
   "source": [
    "# Load the datasets into different dataframes\n",
    "df_movies = pd.read_csv('movies.dat',sep='::', names=['MovieID','Title','Genres'])\n",
    "df_users = pd.read_csv('users.dat',sep='::', names=['UserID','Gender','Age','Occupation','Zip'])\n",
    "df_ratings = pd.read_csv('ratings.dat',sep='::', names=['UserID','MovieID','Rating','Timestamp'])"
   ]
  },
  {
   "cell_type": "code",
   "execution_count": null,
   "metadata": {},
   "outputs": [],
   "source": [
    "df_movies.head()"
   ]
  },
  {
   "cell_type": "code",
   "execution_count": null,
   "metadata": {},
   "outputs": [],
   "source": [
    "df_users.head()"
   ]
  },
  {
   "cell_type": "code",
   "execution_count": null,
   "metadata": {},
   "outputs": [],
   "source": [
    "df_ratings.head()"
   ]
  },
  {
   "cell_type": "code",
   "execution_count": null,
   "metadata": {},
   "outputs": [],
   "source": [
    "# Join all the dataframes based on common columns to create the final dataframe\n",
    "final_df = pd.merge(df_ratings, df_users, how = 'inner', on=['UserID'])\n",
    "final_df = pd.merge(final_df, df_movies, how = 'inner', on=['MovieID'])"
   ]
  },
  {
   "cell_type": "code",
   "execution_count": null,
   "metadata": {},
   "outputs": [],
   "source": [
    "final_df.head()"
   ]
  },
  {
   "cell_type": "code",
   "execution_count": null,
   "metadata": {},
   "outputs": [],
   "source": [
    "len(final_df)"
   ]
  },
  {
   "cell_type": "code",
   "execution_count": null,
   "metadata": {},
   "outputs": [],
   "source": [
    "# Convert the timestamp column to date and time values\n",
    "final_df['Timestamp']= [datetime.fromtimestamp(x) for x in final_df['Timestamp']]"
   ]
  },
  {
   "cell_type": "code",
   "execution_count": null,
   "metadata": {},
   "outputs": [],
   "source": [
    "final_df.head(5)"
   ]
  },
  {
   "cell_type": "markdown",
   "metadata": {},
   "source": [
    "###### Find the Unique Genres"
   ]
  },
  {
   "cell_type": "code",
   "execution_count": null,
   "metadata": {
    "scrolled": true
   },
   "outputs": [],
   "source": [
    "# Function to find unique genres\n",
    "def find_uniq_genre(data):\n",
    "    genre_list=[]\n",
    "    for row in data:\n",
    "        row_list = row.split(sep='|')\n",
    "        genre_list = genre_list + row_list\n",
    "    return set(genre_list)\n",
    "\n",
    "# Call the function to find the list of unique genres\n",
    "uniq_genres = find_uniq_genre(final_df['Genres'].unique())\n",
    "print(uniq_genres)"
   ]
  },
  {
   "cell_type": "markdown",
   "metadata": {},
   "source": [
    "###### Create the genre columns and fill with 1 and 0 for all the rows"
   ]
  },
  {
   "cell_type": "code",
   "execution_count": null,
   "metadata": {},
   "outputs": [],
   "source": [
    "for genre in uniq_genres:\n",
    "    final_df[genre] = np.nan"
   ]
  },
  {
   "cell_type": "code",
   "execution_count": null,
   "metadata": {},
   "outputs": [],
   "source": [
    "for i, row in final_df.iterrows():\n",
    "    for x in row['Genres'].split(sep='|'):\n",
    "        final_df.set_value(i,x,1)\n",
    "final_df.fillna(0)"
   ]
  },
  {
   "cell_type": "markdown",
   "metadata": {},
   "source": [
    "###### Distribution of the User Age distribution"
   ]
  },
  {
   "cell_type": "raw",
   "metadata": {},
   "source": [
    "###### Age Description\n",
    "Value\tDescription\n",
    "1\t\"Under 18\"\n",
    "18\t\"18-24\"\n",
    "25\t\"25-34\"\n",
    "35\t\"35-44\"\n",
    "45\t\"45-49\"\n",
    "50\t\"50-55\"\n",
    "56\t\"56+\"\""
   ]
  },
  {
   "cell_type": "code",
   "execution_count": null,
   "metadata": {},
   "outputs": [],
   "source": [
    "df_users.groupby('Age')['UserID'].count()"
   ]
  },
  {
   "cell_type": "code",
   "execution_count": null,
   "metadata": {},
   "outputs": [],
   "source": [
    "df_users.groupby('Age')['UserID'].count().plot(kind = 'bar', color = 'blue',figsize = (6,4))\n",
    "plt.xlabel('Age')\n",
    "plt.ylabel('Number of Users')\n",
    "plt.title('User Age Distribution')\n",
    "plt.xticks(rotation=0)\n",
    "plt.show()"
   ]
  },
  {
   "cell_type": "markdown",
   "metadata": {},
   "source": [
    "###### Average User rating of the movie “Toy Story”"
   ]
  },
  {
   "cell_type": "code",
   "execution_count": null,
   "metadata": {},
   "outputs": [],
   "source": [
    "#No of user ratings against each rating for movie Toy Story (1995)\n",
    "final_df[final_df.Title == 'Toy Story (1995)'].groupby('Rating')['UserID'].count()"
   ]
  },
  {
   "cell_type": "code",
   "execution_count": null,
   "metadata": {},
   "outputs": [],
   "source": [
    "final_df[final_df.Title == 'Toy Story (1995)'].groupby('Rating')['UserID'].count().\\\n",
    "    plot(kind = 'bar', color = 'blue',figsize = (6,5))\n",
    "plt.xlabel('Rating')\n",
    "plt.ylabel('No of Users')\n",
    "plt.title('Distribution of User Rating of Toy Story')\n",
    "plt.xticks(rotation=0)\n",
    "plt.show()"
   ]
  },
  {
   "cell_type": "code",
   "execution_count": null,
   "metadata": {},
   "outputs": [],
   "source": [
    "# Average mena rating for the movie Toy Story (1995)\n",
    "round(final_df['Rating'][final_df['Title'] == 'Toy Story (1995)'].mean(),2)"
   ]
  },
  {
   "cell_type": "markdown",
   "metadata": {},
   "source": [
    "###### Top 25 movies by viewership rating"
   ]
  },
  {
   "cell_type": "code",
   "execution_count": null,
   "metadata": {},
   "outputs": [],
   "source": [
    "# List the top 25 movies having more maximum ratings.\n",
    "final_df.groupby(['MovieID','Title'])['Rating'].count().sort_values(ascending=False).head(25)"
   ]
  },
  {
   "cell_type": "code",
   "execution_count": null,
   "metadata": {},
   "outputs": [],
   "source": [
    "#drop movies having less than 100 ratings\n",
    "no_of_ratings = 100\n",
    "new_df = final_df\n",
    "#print('before',len(new_df))\n",
    "\n",
    "drop_movie_list = []\n",
    "for x in df_movies['MovieID']:\n",
    "    if len(new_df[new_df['MovieID']==x]) < no_of_ratings:\n",
    "        drop_movie_list.append(x)\n",
    "        \n",
    "df = new_df[~new_df['MovieID'].isin(drop_movie_list)]"
   ]
  },
  {
   "cell_type": "code",
   "execution_count": null,
   "metadata": {},
   "outputs": [],
   "source": [
    "# Find top 25 movies with highest average rating with atlerast 100+ ratings\n",
    "df.groupby(['Title'])['Rating'].mean().sort_values(ascending=False).head(25)"
   ]
  },
  {
   "cell_type": "markdown",
   "metadata": {},
   "source": [
    "###### Find the ratings for all the movies reviewed by for a particular user of user id = 2696"
   ]
  },
  {
   "cell_type": "code",
   "execution_count": null,
   "metadata": {},
   "outputs": [],
   "source": [
    "#list ratings by User 2696\n",
    "final_df[['MovieID','Title','Age','Gender','Occupation','Rating']][final_df['UserID']==2696]"
   ]
  },
  {
   "cell_type": "code",
   "execution_count": null,
   "metadata": {},
   "outputs": [],
   "source": [
    "# For user 2696, Count of different ratings \n",
    "final_df[final_df.UserID == 2696].groupby('Rating')['MovieID'].count()"
   ]
  },
  {
   "cell_type": "code",
   "execution_count": null,
   "metadata": {},
   "outputs": [],
   "source": [
    "final_df[final_df.UserID == 2696].groupby('Rating')['MovieID'].count().plot(kind = 'barh', color = 'blue',figsize = (6,5))\n",
    "plt.xlabel('Rating')\n",
    "plt.ylabel('No of Ratings')\n",
    "plt.title('Movie Ratings of UserID 2696')\n",
    "plt.show()"
   ]
  },
  {
   "cell_type": "code",
   "execution_count": null,
   "metadata": {},
   "outputs": [],
   "source": [
    "final_df = final_df.fillna(0)\n",
    "final_df.head()"
   ]
  },
  {
   "cell_type": "code",
   "execution_count": null,
   "metadata": {},
   "outputs": [],
   "source": [
    "# Encode the Gender Column\n",
    "from sklearn.preprocessing import LabelEncoder\n",
    "label_encoder = LabelEncoder() \n",
    "final_df['Gender']= label_encoder.fit_transform(final_df['Gender'])"
   ]
  },
  {
   "cell_type": "code",
   "execution_count": null,
   "metadata": {},
   "outputs": [],
   "source": [
    "final_df['RDate'] = pd.to_datetime(final_df['Timestamp']).dt.date"
   ]
  },
  {
   "cell_type": "code",
   "execution_count": null,
   "metadata": {},
   "outputs": [],
   "source": [
    "# Drop the columns which will not impact the prediction\n",
    "final_df = final_df.drop(['Title','Timestamp','Genres','MovieID', 'UserID', 'RDate','Zip' ], axis=1)"
   ]
  },
  {
   "cell_type": "code",
   "execution_count": null,
   "metadata": {},
   "outputs": [],
   "source": [
    "final_df.head()"
   ]
  },
  {
   "cell_type": "code",
   "execution_count": null,
   "metadata": {},
   "outputs": [],
   "source": [
    "final_df_features = final_df.iloc[:,1:]\n",
    "final_df_label = final_df.Rating"
   ]
  },
  {
   "cell_type": "code",
   "execution_count": null,
   "metadata": {},
   "outputs": [],
   "source": [
    "from sklearn.model_selection import train_test_split\n",
    "X_train, X_test, y_train, y_test = train_test_split(final_df_features, final_df_label, test_size=0.3,random_state=42)                                                   "
   ]
  },
  {
   "cell_type": "markdown",
   "metadata": {},
   "source": [
    "###### Build a random forest classifier model"
   ]
  },
  {
   "cell_type": "code",
   "execution_count": null,
   "metadata": {},
   "outputs": [],
   "source": [
    "#Import Random Forest Model\n",
    "from sklearn.ensemble import RandomForestClassifier\n",
    "\n",
    "clf=RandomForestClassifier(n_estimators=100)\n",
    "clf.fit(X_train,y_train)\n",
    "y_pred=clf.predict(X_test)"
   ]
  },
  {
   "cell_type": "code",
   "execution_count": null,
   "metadata": {},
   "outputs": [],
   "source": [
    "from sklearn import metrics\n",
    "print(\"Accuracy:\",metrics.accuracy_score(y_test, y_pred))"
   ]
  },
  {
   "cell_type": "markdown",
   "metadata": {},
   "source": [
    "###### Find the Important Features which influences the rating"
   ]
  },
  {
   "cell_type": "code",
   "execution_count": null,
   "metadata": {},
   "outputs": [],
   "source": [
    "feature_imp = pd.Series(clf.feature_importances_).sort_values(ascending=False)\n",
    "feature_imp"
   ]
  },
  {
   "cell_type": "code",
   "execution_count": null,
   "metadata": {},
   "outputs": [],
   "source": [
    "# final_df = final_df[:1000]\n",
    "# len(final_df)"
   ]
  },
  {
   "cell_type": "code",
   "execution_count": null,
   "metadata": {},
   "outputs": [],
   "source": [
    "# We will take the first 3 important feature i.e. Occupation, Age and Gender and rebuild the model\n",
    "final_df_features = final_df[['Occupation','Age','Gender']]\n",
    "final_df_label = final_df.Rating"
   ]
  },
  {
   "cell_type": "code",
   "execution_count": null,
   "metadata": {},
   "outputs": [],
   "source": [
    "X_train, X_test, y_train, y_test = train_test_split(final_df_features, final_df_label, test_size=0.3,random_state=42)"
   ]
  },
  {
   "cell_type": "code",
   "execution_count": null,
   "metadata": {},
   "outputs": [],
   "source": [
    "#Import Random Forest Model\n",
    "from sklearn.ensemble import RandomForestClassifier\n",
    "\n",
    "clf=RandomForestClassifier(n_estimators=100)\n",
    "clf.fit(X_train,y_train)\n",
    "y_pred=clf.predict(X_test)\n",
    "\n",
    "from sklearn import metrics\n",
    "print(\"Accuracy:\",metrics.accuracy_score(y_test, y_pred))"
   ]
  },
  {
   "cell_type": "markdown",
   "metadata": {},
   "source": [
    "###### Build a Multi Class Classification Model Naive Bias Classifier"
   ]
  },
  {
   "cell_type": "code",
   "execution_count": null,
   "metadata": {},
   "outputs": [],
   "source": [
    "# from sklearn.svm import SVC\n",
    "\n",
    "# svc = SVC()\n",
    "# svc.fit(X_train, y_train)\n",
    "# y_pred = svc.predict(X_test)\n",
    "\n",
    "# print(\"Accuracy:\",metrics.accuracy_score(y_test, y_pred))"
   ]
  },
  {
   "cell_type": "code",
   "execution_count": null,
   "metadata": {},
   "outputs": [],
   "source": [
    "from sklearn.naive_bayes import GaussianNB\n",
    "\n",
    "gaussian = GaussianNB()\n",
    "\n",
    "gaussian.fit(X_train, y_train)\n",
    "y_pred = gaussian.predict(X_test)\n",
    "\n",
    "print(\"Accuracy:\",metrics.accuracy_score(y_test, y_pred))"
   ]
  },
  {
   "cell_type": "code",
   "execution_count": null,
   "metadata": {},
   "outputs": [],
   "source": []
  }
 ],
 "metadata": {
  "kernelspec": {
   "display_name": "Python 3",
   "language": "python",
   "name": "python3"
  },
  "language_info": {
   "codemirror_mode": {
    "name": "ipython",
    "version": 3
   },
   "file_extension": ".py",
   "mimetype": "text/x-python",
   "name": "python",
   "nbconvert_exporter": "python",
   "pygments_lexer": "ipython3",
   "version": "3.7.3"
  }
 },
 "nbformat": 4,
 "nbformat_minor": 2
}
