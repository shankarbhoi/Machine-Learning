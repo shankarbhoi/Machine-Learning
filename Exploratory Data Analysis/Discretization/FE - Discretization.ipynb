{
 "cells": [
  {
   "cell_type": "markdown",
   "metadata": {},
   "source": [
    "Chi merge is a simple algorithm that uses the chi-square statistic to discretize numeric attributes. \n",
    "It is a supervised, bottom-up data discretization method. It checks each pair of adjacent rows in order \n",
    "to determine if the class frequencies of the two intervals are significantly different. It tests the \n",
    "following hypothesis: that the two adjacent intervals are independent. If the hypothesis is confirmed the \n",
    "intervals are merged into a single interval, if not, they remain separated."
   ]
  },
  {
   "cell_type": "markdown",
   "metadata": {},
   "source": [
    "To understand the Chi Merge we will use the Iris Dataset obtained from university of California-Irvine machine leanring\n",
    "repository. As a dataset to be discretized, we will perform data discretization for each of the 4 numeric attributes \n",
    "using chi merge method.\n",
    "\n",
    "The stopping criteria will be max-interval = 6"
   ]
  },
  {
   "cell_type": "markdown",
   "metadata": {},
   "source": [
    "Iris data\n",
    "The data set contains 3 classes of 50 instances each, where each class refers to a type of iris plant.\n",
    "\n",
    "Attirbutes of the data\n",
    "1. sepal length in cm \n",
    "2. sepal width in cm \n",
    "3. petal length in cm \n",
    "4. petal width in cm \n",
    "5. class: a)Iris Setosa b)Iris Versicolour c)Iris Virginica"
   ]
  },
  {
   "cell_type": "code",
   "execution_count": 1,
   "metadata": {},
   "outputs": [],
   "source": [
    "#Import the libraries\n",
    "import pandas as pd\n",
    "import numpy as np\n",
    "from collections import Counter\n",
    "import warnings\n",
    "warnings.filterwarnings(\"ignore\")"
   ]
  },
  {
   "cell_type": "code",
   "execution_count": 2,
   "metadata": {},
   "outputs": [],
   "source": [
    "#Load the IRIS dataset\n",
    "iris_df = pd.read_csv('iris.data',sep=',')"
   ]
  },
  {
   "cell_type": "code",
   "execution_count": 3,
   "metadata": {},
   "outputs": [],
   "source": [
    "#Create the column headers\n",
    "attributes = [\"sepal_length\", \"sepal_width\", \"petal_length\", \"petal_width\", \"class\"]\n",
    "iris_df.columns = attributes"
   ]
  },
  {
   "cell_type": "code",
   "execution_count": 4,
   "metadata": {},
   "outputs": [
    {
     "data": {
      "text/html": [
       "<div>\n",
       "<style scoped>\n",
       "    .dataframe tbody tr th:only-of-type {\n",
       "        vertical-align: middle;\n",
       "    }\n",
       "\n",
       "    .dataframe tbody tr th {\n",
       "        vertical-align: top;\n",
       "    }\n",
       "\n",
       "    .dataframe thead th {\n",
       "        text-align: right;\n",
       "    }\n",
       "</style>\n",
       "<table border=\"1\" class=\"dataframe\">\n",
       "  <thead>\n",
       "    <tr style=\"text-align: right;\">\n",
       "      <th></th>\n",
       "      <th>sepal_length</th>\n",
       "      <th>sepal_width</th>\n",
       "      <th>petal_length</th>\n",
       "      <th>petal_width</th>\n",
       "      <th>class</th>\n",
       "    </tr>\n",
       "  </thead>\n",
       "  <tbody>\n",
       "    <tr>\n",
       "      <th>0</th>\n",
       "      <td>4.9</td>\n",
       "      <td>3.0</td>\n",
       "      <td>1.4</td>\n",
       "      <td>0.2</td>\n",
       "      <td>Iris-setosa</td>\n",
       "    </tr>\n",
       "    <tr>\n",
       "      <th>1</th>\n",
       "      <td>4.7</td>\n",
       "      <td>3.2</td>\n",
       "      <td>1.3</td>\n",
       "      <td>0.2</td>\n",
       "      <td>Iris-setosa</td>\n",
       "    </tr>\n",
       "    <tr>\n",
       "      <th>2</th>\n",
       "      <td>4.6</td>\n",
       "      <td>3.1</td>\n",
       "      <td>1.5</td>\n",
       "      <td>0.2</td>\n",
       "      <td>Iris-setosa</td>\n",
       "    </tr>\n",
       "    <tr>\n",
       "      <th>3</th>\n",
       "      <td>5.0</td>\n",
       "      <td>3.6</td>\n",
       "      <td>1.4</td>\n",
       "      <td>0.2</td>\n",
       "      <td>Iris-setosa</td>\n",
       "    </tr>\n",
       "    <tr>\n",
       "      <th>4</th>\n",
       "      <td>5.4</td>\n",
       "      <td>3.9</td>\n",
       "      <td>1.7</td>\n",
       "      <td>0.4</td>\n",
       "      <td>Iris-setosa</td>\n",
       "    </tr>\n",
       "  </tbody>\n",
       "</table>\n",
       "</div>"
      ],
      "text/plain": [
       "   sepal_length  sepal_width  petal_length  petal_width        class\n",
       "0           4.9          3.0           1.4          0.2  Iris-setosa\n",
       "1           4.7          3.2           1.3          0.2  Iris-setosa\n",
       "2           4.6          3.1           1.5          0.2  Iris-setosa\n",
       "3           5.0          3.6           1.4          0.2  Iris-setosa\n",
       "4           5.4          3.9           1.7          0.4  Iris-setosa"
      ]
     },
     "execution_count": 4,
     "metadata": {},
     "output_type": "execute_result"
    }
   ],
   "source": [
    "iris_df.head()"
   ]
  },
  {
   "cell_type": "code",
   "execution_count": 5,
   "metadata": {},
   "outputs": [
    {
     "data": {
      "text/plain": [
       "149"
      ]
     },
     "execution_count": 5,
     "metadata": {},
     "output_type": "execute_result"
    }
   ],
   "source": [
    "len(iris_df)"
   ]
  },
  {
   "cell_type": "code",
   "execution_count": 6,
   "metadata": {},
   "outputs": [
    {
     "name": "stdout",
     "output_type": "stream",
     "text": [
      "<class 'pandas.core.frame.DataFrame'>\n",
      "RangeIndex: 149 entries, 0 to 148\n",
      "Data columns (total 5 columns):\n",
      "sepal_length    149 non-null float64\n",
      "sepal_width     149 non-null float64\n",
      "petal_length    149 non-null float64\n",
      "petal_width     149 non-null float64\n",
      "class           149 non-null object\n",
      "dtypes: float64(4), object(1)\n",
      "memory usage: 5.9+ KB\n"
     ]
    }
   ],
   "source": [
    "iris_df.info()"
   ]
  },
  {
   "cell_type": "code",
   "execution_count": 7,
   "metadata": {},
   "outputs": [
    {
     "data": {
      "text/html": [
       "<div>\n",
       "<style scoped>\n",
       "    .dataframe tbody tr th:only-of-type {\n",
       "        vertical-align: middle;\n",
       "    }\n",
       "\n",
       "    .dataframe tbody tr th {\n",
       "        vertical-align: top;\n",
       "    }\n",
       "\n",
       "    .dataframe thead th {\n",
       "        text-align: right;\n",
       "    }\n",
       "</style>\n",
       "<table border=\"1\" class=\"dataframe\">\n",
       "  <thead>\n",
       "    <tr style=\"text-align: right;\">\n",
       "      <th></th>\n",
       "      <th>sepal_length</th>\n",
       "      <th>sepal_width</th>\n",
       "      <th>petal_length</th>\n",
       "      <th>petal_width</th>\n",
       "    </tr>\n",
       "  </thead>\n",
       "  <tbody>\n",
       "    <tr>\n",
       "      <th>count</th>\n",
       "      <td>149.000000</td>\n",
       "      <td>149.000000</td>\n",
       "      <td>149.000000</td>\n",
       "      <td>149.000000</td>\n",
       "    </tr>\n",
       "    <tr>\n",
       "      <th>mean</th>\n",
       "      <td>5.848322</td>\n",
       "      <td>3.051007</td>\n",
       "      <td>3.774497</td>\n",
       "      <td>1.205369</td>\n",
       "    </tr>\n",
       "    <tr>\n",
       "      <th>std</th>\n",
       "      <td>0.828594</td>\n",
       "      <td>0.433499</td>\n",
       "      <td>1.759651</td>\n",
       "      <td>0.761292</td>\n",
       "    </tr>\n",
       "    <tr>\n",
       "      <th>min</th>\n",
       "      <td>4.300000</td>\n",
       "      <td>2.000000</td>\n",
       "      <td>1.000000</td>\n",
       "      <td>0.100000</td>\n",
       "    </tr>\n",
       "    <tr>\n",
       "      <th>25%</th>\n",
       "      <td>5.100000</td>\n",
       "      <td>2.800000</td>\n",
       "      <td>1.600000</td>\n",
       "      <td>0.300000</td>\n",
       "    </tr>\n",
       "    <tr>\n",
       "      <th>50%</th>\n",
       "      <td>5.800000</td>\n",
       "      <td>3.000000</td>\n",
       "      <td>4.400000</td>\n",
       "      <td>1.300000</td>\n",
       "    </tr>\n",
       "    <tr>\n",
       "      <th>75%</th>\n",
       "      <td>6.400000</td>\n",
       "      <td>3.300000</td>\n",
       "      <td>5.100000</td>\n",
       "      <td>1.800000</td>\n",
       "    </tr>\n",
       "    <tr>\n",
       "      <th>max</th>\n",
       "      <td>7.900000</td>\n",
       "      <td>4.400000</td>\n",
       "      <td>6.900000</td>\n",
       "      <td>2.500000</td>\n",
       "    </tr>\n",
       "  </tbody>\n",
       "</table>\n",
       "</div>"
      ],
      "text/plain": [
       "       sepal_length  sepal_width  petal_length  petal_width\n",
       "count    149.000000   149.000000    149.000000   149.000000\n",
       "mean       5.848322     3.051007      3.774497     1.205369\n",
       "std        0.828594     0.433499      1.759651     0.761292\n",
       "min        4.300000     2.000000      1.000000     0.100000\n",
       "25%        5.100000     2.800000      1.600000     0.300000\n",
       "50%        5.800000     3.000000      4.400000     1.300000\n",
       "75%        6.400000     3.300000      5.100000     1.800000\n",
       "max        7.900000     4.400000      6.900000     2.500000"
      ]
     },
     "execution_count": 7,
     "metadata": {},
     "output_type": "execute_result"
    }
   ],
   "source": [
    "iris_df.describe()"
   ]
  },
  {
   "cell_type": "code",
   "execution_count": 8,
   "metadata": {},
   "outputs": [],
   "source": [
    "# Function to merge the intervals with the lowest chi2 value and then recreate the list of intervals \n",
    "def  merge_build_new_intervals(chi2_list, intervals):\n",
    "    \n",
    "    new_intervals = []\n",
    "    skip = False\n",
    "    merged = False\n",
    "    \n",
    "    # Find the minimal Chi2\n",
    "    min_chi2 = min(chi2_list) \n",
    "    \n",
    "    # Find and Store the index for the minimum chi2\n",
    "    for ctr, chi in enumerate(chi2_list):\n",
    "        if chi == min_chi2:\n",
    "            min_chi_index = ctr\n",
    "            break\n",
    "              \n",
    "    for ctr in range(len(intervals)):\n",
    "        #Skip one row to handle merging\n",
    "        if skip:\n",
    "            skip = False\n",
    "            continue\n",
    "        \n",
    "        #Find the 2 rows with minimum chi2 and merge their intervals\n",
    "        #Store the new set set of intervals\n",
    "        if ctr == min_chi_index and not merged:\n",
    "            t = intervals[ctr] + intervals[ctr+1]\n",
    "            new_intervals.append([min(t), max(t)]) \n",
    "            skip = True\n",
    "            merged = True\n",
    "        else:\n",
    "            new_intervals.append(intervals[ctr])\n",
    "            \n",
    "    return new_intervals"
   ]
  },
  {
   "cell_type": "code",
   "execution_count": 63,
   "metadata": {},
   "outputs": [],
   "source": [
    "# Function to calculate the chi2 values for all the pair of intervals\n",
    "def calculate_chi_square(data, intervals, attr, label):\n",
    "    \n",
    "    chi2 = []\n",
    "    \n",
    "    # Get all possible labels for \n",
    "    labels = sorted(set(data[label])) \n",
    "    \n",
    "    # A helper function for padding the Counter()\n",
    "    empty_count = {l: 0 for l in labels}\n",
    "    n=0\n",
    "    # Calcuate the chi2 values for every pair of intervals and store\n",
    "    for i in range(len(intervals)-1):\n",
    "        \n",
    "        # List of samples in the first interval\n",
    "        list_0 = data[data[attr].between(intervals[i][0], intervals[i][1])]\n",
    "       \n",
    "        # List of samples in the second interval\n",
    "        list_1 = data[data[attr].between(intervals[i+1][0], intervals[i+1][1])]\n",
    "        \n",
    "        # Total no of sample in the two intervals\n",
    "        N = len(list_0) + len(list_1)\n",
    "    \n",
    "        # No of samples in each class in the first interval\n",
    "        A_0_arr = np.array([v for i, v in {**empty_count, **Counter(list_0[label])}.items()]) \n",
    "        \n",
    "        # No of samples in each class in the second interval\n",
    "        A_1_arr = np.array([v for i, v in {**empty_count, **Counter(list_1[label])}.items()])\n",
    "\n",
    "        # No of samples in each class in the two intervals combined\n",
    "        C = A_0_arr + A_1_arr \n",
    "       \n",
    "        # Total no of samples in the first interval\n",
    "        R_0 = sum(A_0_arr)\n",
    "        # Total no of samples in the second interval\n",
    "        R_1 = sum(A_1_arr)\n",
    "\n",
    "        E_0 = (C*R_0)/N\n",
    "        E_1 = (C*R_1)/N  \n",
    "        print(E_0)\n",
    "        print(E_1)\n",
    "\n",
    "        # Calculate the chi2 for the 2 intervals\n",
    "        chi2_ = (A_0_arr - E_0)**2/E_0 + (A_1_arr - E_1)**2/E_1\n",
    "        chi2_ = np.nan_to_num(chi2_)\n",
    "        #print(sum(chi2_))\n",
    "        \n",
    "        #Store the chi2 for the 2 intervals\n",
    "        chi2.append(sum(chi2_)) \n",
    "     \n",
    "    return chi2"
   ]
  },
  {
   "cell_type": "code",
   "execution_count": 61,
   "metadata": {},
   "outputs": [],
   "source": [
    "# Function implementing the Chi merge Algorithm\n",
    "def chimerge(data, attr, label, max_intervals):\n",
    "    \n",
    "    # Sort the distinct values for the passed attributes\n",
    "    distinct_vals = sorted(set(data[attr]))\n",
    "       \n",
    "    # Initialize the intervals for each attribute\n",
    "    intervals = [[distinct_vals[i], distinct_vals[i]] for i in range(len(distinct_vals))] \n",
    "   \n",
    "    # Iterative keep merging rows with lowest chi2 values till the no of intervals remaining \n",
    "    # is greater than max_intervals\n",
    "    while len(intervals) > max_intervals:\n",
    "        \n",
    "        # Find the chi value for each pair of attribute intervals\n",
    "        chi = calculate_chi_square(data, intervals, attr, label)\n",
    "        print(chi)\n",
    "        #Merge the two intervals with the lowest chi2 and create a new list of intervals\n",
    "        intervals = merge_build_new_intervals(chi, intervals)        \n",
    "    \n",
    "    n=0\n",
    "    # Print the discretized intervals along with the attribute frquency in the interval\n",
    "    for ctr in intervals:\n",
    "        print('[', ctr[0], ',', ctr[1], ']','freq - ', len(data[attr][data[attr].between(ctr[0], ctr[1])]))"
   ]
  },
  {
   "cell_type": "code",
   "execution_count": 59,
   "metadata": {},
   "outputs": [
    {
     "name": "stdout",
     "output_type": "stream",
     "text": [
      "Interval for sepal_length\n",
      "[ 4.3 , 4.8 ] freq -  16\n",
      "[ 4.9 , 5.4 ] freq -  35\n",
      "[ 5.5 , 5.7 ] freq -  21\n",
      "[ 5.8 , 6.2 ] freq -  26\n",
      "[ 6.3 , 7.0 ] freq -  39\n",
      "[ 7.1 , 7.9 ] freq -  12\n",
      "Interval for sepal_width\n",
      "[ 2.0 , 2.2 ] freq -  4\n",
      "[ 2.3 , 2.4 ] freq -  7\n",
      "[ 2.5 , 2.8 ] freq -  36\n",
      "[ 2.9 , 2.9 ] freq -  10\n",
      "[ 3.0 , 3.3 ] freq -  57\n",
      "[ 3.4 , 4.4 ] freq -  35\n",
      "Interval for petal_length\n",
      "[ 1.0 , 1.9 ] freq -  49\n",
      "[ 3.0 , 4.4 ] freq -  29\n",
      "[ 4.5 , 4.7 ] freq -  16\n",
      "[ 4.8 , 4.9 ] freq -  9\n",
      "[ 5.0 , 5.1 ] freq -  12\n",
      "[ 5.2 , 6.9 ] freq -  34\n",
      "Interval for petal_width\n",
      "[ 0.1 , 0.6 ] freq -  49\n",
      "[ 1.0 , 1.3 ] freq -  28\n",
      "[ 1.4 , 1.6 ] freq -  24\n",
      "[ 1.7 , 1.7 ] freq -  2\n",
      "[ 1.8 , 1.8 ] freq -  12\n",
      "[ 1.9 , 2.5 ] freq -  34\n"
     ]
    }
   ],
   "source": [
    "# Apply the Chi Merge to find the discretized intervals and frequencies for each attribute\n",
    "for attr in [\"sepal_length\", \"sepal_width\", \"petal_length\", \"petal_width\"]:\n",
    "    print('Interval for', attr)\n",
    "    chimerge(data=iris_df, attr=attr, label='class', max_intervals=6)"
   ]
  },
  {
   "cell_type": "code",
   "execution_count": 12,
   "metadata": {},
   "outputs": [],
   "source": [
    "# Check for the sample dataset\n",
    "df = pd.read_csv('a.csv')"
   ]
  },
  {
   "cell_type": "code",
   "execution_count": 38,
   "metadata": {},
   "outputs": [
    {
     "data": {
      "text/html": [
       "<div>\n",
       "<style scoped>\n",
       "    .dataframe tbody tr th:only-of-type {\n",
       "        vertical-align: middle;\n",
       "    }\n",
       "\n",
       "    .dataframe tbody tr th {\n",
       "        vertical-align: top;\n",
       "    }\n",
       "\n",
       "    .dataframe thead th {\n",
       "        text-align: right;\n",
       "    }\n",
       "</style>\n",
       "<table border=\"1\" class=\"dataframe\">\n",
       "  <thead>\n",
       "    <tr style=\"text-align: right;\">\n",
       "      <th></th>\n",
       "      <th>x</th>\n",
       "      <th>class</th>\n",
       "    </tr>\n",
       "  </thead>\n",
       "  <tbody>\n",
       "    <tr>\n",
       "      <th>0</th>\n",
       "      <td>1</td>\n",
       "      <td>A</td>\n",
       "    </tr>\n",
       "    <tr>\n",
       "      <th>1</th>\n",
       "      <td>3</td>\n",
       "      <td>B</td>\n",
       "    </tr>\n",
       "    <tr>\n",
       "      <th>2</th>\n",
       "      <td>5</td>\n",
       "      <td>A</td>\n",
       "    </tr>\n",
       "    <tr>\n",
       "      <th>3</th>\n",
       "      <td>7</td>\n",
       "      <td>B</td>\n",
       "    </tr>\n",
       "    <tr>\n",
       "      <th>4</th>\n",
       "      <td>9</td>\n",
       "      <td>A</td>\n",
       "    </tr>\n",
       "    <tr>\n",
       "      <th>5</th>\n",
       "      <td>11</td>\n",
       "      <td>B</td>\n",
       "    </tr>\n",
       "    <tr>\n",
       "      <th>6</th>\n",
       "      <td>13</td>\n",
       "      <td>A</td>\n",
       "    </tr>\n",
       "  </tbody>\n",
       "</table>\n",
       "</div>"
      ],
      "text/plain": [
       "    x class\n",
       "0   1     A\n",
       "1   3     B\n",
       "2   5     A\n",
       "3   7     B\n",
       "4   9     A\n",
       "5  11     B\n",
       "6  13     A"
      ]
     },
     "execution_count": 38,
     "metadata": {},
     "output_type": "execute_result"
    }
   ],
   "source": [
    "df=df[['x','class']]\n",
    "df"
   ]
  },
  {
   "cell_type": "code",
   "execution_count": 64,
   "metadata": {},
   "outputs": [
    {
     "name": "stdout",
     "output_type": "stream",
     "text": [
      "Interval for x\n",
      "[0.5 0.5]\n",
      "[0.5 0.5]\n",
      "[0.5 0.5]\n",
      "[0.5 0.5]\n",
      "[0.5 0.5]\n",
      "[0.5 0.5]\n",
      "[0.5 0.5]\n",
      "[0.5 0.5]\n",
      "[0.5 0.5]\n",
      "[0.5 0.5]\n",
      "[0.5 0.5]\n",
      "[0.5 0.5]\n",
      "[2.0, 2.0, 2.0, 2.0, 2.0, 2.0]\n",
      "[1.33333333 0.66666667]\n",
      "[0.66666667 0.33333333]\n",
      "[0.5 0.5]\n",
      "[0.5 0.5]\n",
      "[0.5 0.5]\n",
      "[0.5 0.5]\n",
      "[0.5 0.5]\n",
      "[0.5 0.5]\n",
      "[0.5 0.5]\n",
      "[0.5 0.5]\n",
      "[0.75, 2.0, 2.0, 2.0, 2.0]\n",
      "[ 1 , 5 ] freq -  3\n",
      "[ 7 , 7 ] freq -  1\n",
      "[ 9 , 9 ] freq -  1\n",
      "[ 11 , 11 ] freq -  1\n",
      "[ 13 , 13 ] freq -  1\n"
     ]
    }
   ],
   "source": [
    "for attr in [\"x\"]:\n",
    "    print('Interval for', attr)\n",
    "    chimerge(data=df, attr=attr, label='class', max_intervals=5)"
   ]
  },
  {
   "cell_type": "code",
   "execution_count": null,
   "metadata": {},
   "outputs": [],
   "source": []
  },
  {
   "cell_type": "code",
   "execution_count": null,
   "metadata": {},
   "outputs": [],
   "source": []
  }
 ],
 "metadata": {
  "kernelspec": {
   "display_name": "Python 3",
   "language": "python",
   "name": "python3"
  },
  "language_info": {
   "codemirror_mode": {
    "name": "ipython",
    "version": 3
   },
   "file_extension": ".py",
   "mimetype": "text/x-python",
   "name": "python",
   "nbconvert_exporter": "python",
   "pygments_lexer": "ipython3",
   "version": "3.7.3"
  }
 },
 "nbformat": 4,
 "nbformat_minor": 2
}
